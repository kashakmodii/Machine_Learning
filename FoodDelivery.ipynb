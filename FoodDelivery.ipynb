{
  "cells": [
    {
      "cell_type": "markdown",
      "source": [
        "#Customer Segmentation for Personalized Marketing in Food Delivery Services using Clustering and PCA"
      ],
      "metadata": {
        "id": "HMh4heaOF6va"
      },
      "id": "HMh4heaOF6va"
    },
    {
      "cell_type": "markdown",
      "source": [
        "##Problem Statement:\n",
        "In the competitive food delivery industry, businesses often struggle to understand and\n",
        "engage their diverse user base effectively. Users differ widely in terms of age, spending\n",
        "habits, order frequency, app usage, and preferences. Without segmenting these users into\n",
        "meaningful groups, companies miss opportunities to personalize marketing, improve user\n",
        "satisfaction, and increase retention."
      ],
      "metadata": {
        "id": "LadZTprAGFZx"
      },
      "id": "LadZTprAGFZx"
    },
    {
      "cell_type": "markdown",
      "source": [
        "##Project Goal:\n",
        "The goal of this project is to segment users of a food delivery app into meaningful\n",
        "clusters based on their behavior and demographics using unsupervised learning techniques.\n",
        "By identifying distinct customer groups, the business can tailor marketing campaigns,\n",
        "improve service offerings, and optimize customer engagement strategies."
      ],
      "metadata": {
        "id": "WP4DnA5jGLFR"
      },
      "id": "WP4DnA5jGLFR"
    },
    {
      "cell_type": "markdown",
      "source": [
        "##Learning Objectives\n",
        "Data Understanding & Exploration\n",
        "1. Load and inspect food delivery user data to understand variable types (e.g., numeric\n",
        "vs. categorical), ranges, and distributions.\n",
        "\n",
        "2. Summarize and interpret key statistical properties (mean, median, standard\n",
        "deviation, skewness) of user behavior features like Age, Total Orders, Average\n",
        "Spend, etc.\n",
        "\n",
        "3. Visualize data distributions using histograms, box plots, and pair plots to explore\n",
        "potential groupings or outliers.\n",
        "\n",
        "4. Identify relationships between user variables (e.g., App Usage Time and Average\n",
        "Spend) through correlation matrices and scatter plots.\n",
        "Data Cleaning & Preprocessing\n",
        "\n",
        "\n",
        "5. Drop or encode irrelevant or categorical features (e.g., UserID, FavoriteCuisine) as\n",
        "appropriate for unsupervised learning models.\n",
        "\n",
        "6. Standardize numerical features using StandardScaler to ensure equal contribution to\n",
        "distance-based clustering.\n",
        "\n",
        "7. Evaluate the effect of scaling and dimensionality reduction on the data’s structure\n",
        "through pre- and post-processing visualizations.\n",
        "Dimensionality Reduction with PCA\n",
        "\n",
        "8. Apply Principal Component Analysis (PCA) to reduce high-dimensional data to 2D\n",
        "for effective visualization of user clusters.\n",
        "\n",
        "9. Interpret principal components by examining feature loadings to understand which\n",
        "user behaviors contribute most to variance.\n",
        "\n",
        "10. Visualize PCA-transformed data to observe potential natural clusters and separation\n",
        "of user types.\n",
        "Unsupervised Learning: Clustering\n",
        "\n",
        "11. Implement K-Means clustering on scaled user data and interpret resulting clusters in\n",
        "the context of user behavior.\n",
        "\n",
        "12. Determine the optimal number of clusters using the Elbow Method or Silhouette\n",
        "Score.\n",
        "\n",
        "13. Apply Agglomerative (Hierarchical) Clustering and visualize results using\n",
        "dendrograms to understand hierarchical relationships among users.\n",
        "\n",
        "14. Compare clustering results from K-Means and Hierarchical Clustering to identify\n",
        "consistency or divergence in groupings.\n",
        "Model Evaluation & Visualization\n",
        "\n",
        "15. Label PCA scatter plots with cluster assignments to visually interpret how users are\n",
        "grouped in reduced dimensions.\n",
        "\n",
        "16. Analyze cluster characteristics by computing average values of features within each\n",
        "cluster (e.g., high spenders, frequent users).\n",
        "\n",
        "17. Create a cluster profile summary to describe each segment using business-relevant\n",
        "insights (e.g., “young frequent users,” “older high spenders”).\n",
        "Critical Thinking & Real-world Framing\n",
        "\n",
        "18. Frame the clustering output as a customer segmentation strategy for personalized\n",
        "marketing or product recommendations.\n",
        "\n",
        "19. Explain how unsupervised learning helps businesses make data-driven decisions in\n",
        "the absence of labeled training data.\n",
        "\n",
        "20. Reflect on limitations of clustering models (e.g., sensitivity to scaling, shape of\n",
        "clusters) and suggest ways to improve (e.g., DBSCAN, inclusion of more behavioral\n",
        "data)."
      ],
      "metadata": {
        "id": "kXjVFv6ZHf1c"
      },
      "id": "kXjVFv6ZHf1c"
    },
    {
      "cell_type": "markdown",
      "source": [
        "## Step 1 – Importing Libraries\n",
        "\n",
        "Various Python libraries are used in this analysis:\n",
        "\n",
        "- pandas and numpy are used for data handling and numerical operations.\n",
        "- matplotlib.pyplot and seaborn are used for data visualization.\n",
        "- sklearn is used for preprocessing the data, reducing dimensions with PCA, and applying clustering techniques like KMeans, Agglomerative Clustering, and DBSCAN.\n"
      ],
      "metadata": {
        "id": "ItrUCkvbGSO-"
      },
      "id": "ItrUCkvbGSO-"
    },
    {
      "cell_type": "code",
      "execution_count": 2,
      "id": "df270164",
      "metadata": {
        "_cell_guid": "b1076dfc-b9ad-4769-8c92-a6c4dae69d19",
        "_uuid": "8f2839f25d086af736a60e9eeb907d3b93b6e0e5",
        "execution": {
          "iopub.execute_input": "2025-07-09T10:35:35.625937Z",
          "iopub.status.busy": "2025-07-09T10:35:35.625478Z",
          "iopub.status.idle": "2025-07-09T10:35:39.605011Z",
          "shell.execute_reply": "2025-07-09T10:35:39.604094Z"
        },
        "papermill": {
          "duration": 3.989902,
          "end_time": "2025-07-09T10:35:39.606756",
          "exception": false,
          "start_time": "2025-07-09T10:35:35.616854",
          "status": "completed"
        },
        "tags": [],
        "id": "df270164"
      },
      "outputs": [],
      "source": [
        "#import Libraries\n",
        "import numpy as np\n",
        "import pandas as pd\n",
        "import matplotlib.pyplot as plt\n",
        "import seaborn as sns\n",
        "from sklearn.preprocessing import StandardScaler\n",
        "from sklearn.cluster import KMeans, AgglomerativeClustering,DBSCAN\n",
        "from scipy.cluster.hierarchy import linkage, dendrogram\n",
        "from sklearn.preprocessing import LabelEncoder\n",
        "from sklearn.decomposition import PCA"
      ]
    },
    {
      "cell_type": "markdown",
      "source": [
        "## Step 2 – Load Data\n",
        "\n",
        "The dataset is loaded from an online source. It contains user-level data such as age, total number of orders, average spending, and favorite cuisine. This data is stored in a DataFrame and is used for further processing and analysis.\n"
      ],
      "metadata": {
        "id": "avJ3fNvRHZl2"
      },
      "id": "avJ3fNvRHZl2"
    },
    {
      "cell_type": "code",
      "execution_count": 3,
      "id": "c910d86b",
      "metadata": {
        "execution": {
          "iopub.execute_input": "2025-07-09T10:35:39.619843Z",
          "iopub.status.busy": "2025-07-09T10:35:39.619374Z",
          "iopub.status.idle": "2025-07-09T10:35:39.673678Z",
          "shell.execute_reply": "2025-07-09T10:35:39.672771Z"
        },
        "papermill": {
          "duration": 0.062304,
          "end_time": "2025-07-09T10:35:39.675146",
          "exception": false,
          "start_time": "2025-07-09T10:35:39.612842",
          "status": "completed"
        },
        "tags": [],
        "colab": {
          "base_uri": "https://localhost:8080/",
          "height": 226
        },
        "id": "c910d86b",
        "outputId": "979524be-6200-412b-d7b3-47baf53da3fa"
      },
      "outputs": [
        {
          "output_type": "execute_result",
          "data": {
            "text/plain": [
              "   UserID  Age  TotalOrders  AverageSpend FavoriteCuisine  DeliveryRating  \\\n",
              "0       1   56           37        312.70         Mexican             4.6   \n",
              "1       2   46           34        193.97         Mexican             3.0   \n",
              "2       3   32           22        291.66         Mexican             4.1   \n",
              "3       4   25           30        232.21            Thai             3.7   \n",
              "4       5   38           27        244.84         Italian             4.7   \n",
              "\n",
              "   AppUsageTimePerDay  \n",
              "0                20.9  \n",
              "1               150.2  \n",
              "2                59.7  \n",
              "3                85.5  \n",
              "4                13.7  "
            ],
            "text/html": [
              "\n",
              "  <div id=\"df-972b1151-54d1-495a-82e4-7430fef5834e\" class=\"colab-df-container\">\n",
              "    <div>\n",
              "<style scoped>\n",
              "    .dataframe tbody tr th:only-of-type {\n",
              "        vertical-align: middle;\n",
              "    }\n",
              "\n",
              "    .dataframe tbody tr th {\n",
              "        vertical-align: top;\n",
              "    }\n",
              "\n",
              "    .dataframe thead th {\n",
              "        text-align: right;\n",
              "    }\n",
              "</style>\n",
              "<table border=\"1\" class=\"dataframe\">\n",
              "  <thead>\n",
              "    <tr style=\"text-align: right;\">\n",
              "      <th></th>\n",
              "      <th>UserID</th>\n",
              "      <th>Age</th>\n",
              "      <th>TotalOrders</th>\n",
              "      <th>AverageSpend</th>\n",
              "      <th>FavoriteCuisine</th>\n",
              "      <th>DeliveryRating</th>\n",
              "      <th>AppUsageTimePerDay</th>\n",
              "    </tr>\n",
              "  </thead>\n",
              "  <tbody>\n",
              "    <tr>\n",
              "      <th>0</th>\n",
              "      <td>1</td>\n",
              "      <td>56</td>\n",
              "      <td>37</td>\n",
              "      <td>312.70</td>\n",
              "      <td>Mexican</td>\n",
              "      <td>4.6</td>\n",
              "      <td>20.9</td>\n",
              "    </tr>\n",
              "    <tr>\n",
              "      <th>1</th>\n",
              "      <td>2</td>\n",
              "      <td>46</td>\n",
              "      <td>34</td>\n",
              "      <td>193.97</td>\n",
              "      <td>Mexican</td>\n",
              "      <td>3.0</td>\n",
              "      <td>150.2</td>\n",
              "    </tr>\n",
              "    <tr>\n",
              "      <th>2</th>\n",
              "      <td>3</td>\n",
              "      <td>32</td>\n",
              "      <td>22</td>\n",
              "      <td>291.66</td>\n",
              "      <td>Mexican</td>\n",
              "      <td>4.1</td>\n",
              "      <td>59.7</td>\n",
              "    </tr>\n",
              "    <tr>\n",
              "      <th>3</th>\n",
              "      <td>4</td>\n",
              "      <td>25</td>\n",
              "      <td>30</td>\n",
              "      <td>232.21</td>\n",
              "      <td>Thai</td>\n",
              "      <td>3.7</td>\n",
              "      <td>85.5</td>\n",
              "    </tr>\n",
              "    <tr>\n",
              "      <th>4</th>\n",
              "      <td>5</td>\n",
              "      <td>38</td>\n",
              "      <td>27</td>\n",
              "      <td>244.84</td>\n",
              "      <td>Italian</td>\n",
              "      <td>4.7</td>\n",
              "      <td>13.7</td>\n",
              "    </tr>\n",
              "  </tbody>\n",
              "</table>\n",
              "</div>\n",
              "    <div class=\"colab-df-buttons\">\n",
              "\n",
              "  <div class=\"colab-df-container\">\n",
              "    <button class=\"colab-df-convert\" onclick=\"convertToInteractive('df-972b1151-54d1-495a-82e4-7430fef5834e')\"\n",
              "            title=\"Convert this dataframe to an interactive table.\"\n",
              "            style=\"display:none;\">\n",
              "\n",
              "  <svg xmlns=\"http://www.w3.org/2000/svg\" height=\"24px\" viewBox=\"0 -960 960 960\">\n",
              "    <path d=\"M120-120v-720h720v720H120Zm60-500h600v-160H180v160Zm220 220h160v-160H400v160Zm0 220h160v-160H400v160ZM180-400h160v-160H180v160Zm440 0h160v-160H620v160ZM180-180h160v-160H180v160Zm440 0h160v-160H620v160Z\"/>\n",
              "  </svg>\n",
              "    </button>\n",
              "\n",
              "  <style>\n",
              "    .colab-df-container {\n",
              "      display:flex;\n",
              "      gap: 12px;\n",
              "    }\n",
              "\n",
              "    .colab-df-convert {\n",
              "      background-color: #E8F0FE;\n",
              "      border: none;\n",
              "      border-radius: 50%;\n",
              "      cursor: pointer;\n",
              "      display: none;\n",
              "      fill: #1967D2;\n",
              "      height: 32px;\n",
              "      padding: 0 0 0 0;\n",
              "      width: 32px;\n",
              "    }\n",
              "\n",
              "    .colab-df-convert:hover {\n",
              "      background-color: #E2EBFA;\n",
              "      box-shadow: 0px 1px 2px rgba(60, 64, 67, 0.3), 0px 1px 3px 1px rgba(60, 64, 67, 0.15);\n",
              "      fill: #174EA6;\n",
              "    }\n",
              "\n",
              "    .colab-df-buttons div {\n",
              "      margin-bottom: 4px;\n",
              "    }\n",
              "\n",
              "    [theme=dark] .colab-df-convert {\n",
              "      background-color: #3B4455;\n",
              "      fill: #D2E3FC;\n",
              "    }\n",
              "\n",
              "    [theme=dark] .colab-df-convert:hover {\n",
              "      background-color: #434B5C;\n",
              "      box-shadow: 0px 1px 3px 1px rgba(0, 0, 0, 0.15);\n",
              "      filter: drop-shadow(0px 1px 2px rgba(0, 0, 0, 0.3));\n",
              "      fill: #FFFFFF;\n",
              "    }\n",
              "  </style>\n",
              "\n",
              "    <script>\n",
              "      const buttonEl =\n",
              "        document.querySelector('#df-972b1151-54d1-495a-82e4-7430fef5834e button.colab-df-convert');\n",
              "      buttonEl.style.display =\n",
              "        google.colab.kernel.accessAllowed ? 'block' : 'none';\n",
              "\n",
              "      async function convertToInteractive(key) {\n",
              "        const element = document.querySelector('#df-972b1151-54d1-495a-82e4-7430fef5834e');\n",
              "        const dataTable =\n",
              "          await google.colab.kernel.invokeFunction('convertToInteractive',\n",
              "                                                    [key], {});\n",
              "        if (!dataTable) return;\n",
              "\n",
              "        const docLinkHtml = 'Like what you see? Visit the ' +\n",
              "          '<a target=\"_blank\" href=https://colab.research.google.com/notebooks/data_table.ipynb>data table notebook</a>'\n",
              "          + ' to learn more about interactive tables.';\n",
              "        element.innerHTML = '';\n",
              "        dataTable['output_type'] = 'display_data';\n",
              "        await google.colab.output.renderOutput(dataTable, element);\n",
              "        const docLink = document.createElement('div');\n",
              "        docLink.innerHTML = docLinkHtml;\n",
              "        element.appendChild(docLink);\n",
              "      }\n",
              "    </script>\n",
              "  </div>\n",
              "\n",
              "\n",
              "    <div id=\"df-63b25d62-eb33-4d82-b584-ac6efb58c23f\">\n",
              "      <button class=\"colab-df-quickchart\" onclick=\"quickchart('df-63b25d62-eb33-4d82-b584-ac6efb58c23f')\"\n",
              "                title=\"Suggest charts\"\n",
              "                style=\"display:none;\">\n",
              "\n",
              "<svg xmlns=\"http://www.w3.org/2000/svg\" height=\"24px\"viewBox=\"0 0 24 24\"\n",
              "     width=\"24px\">\n",
              "    <g>\n",
              "        <path d=\"M19 3H5c-1.1 0-2 .9-2 2v14c0 1.1.9 2 2 2h14c1.1 0 2-.9 2-2V5c0-1.1-.9-2-2-2zM9 17H7v-7h2v7zm4 0h-2V7h2v10zm4 0h-2v-4h2v4z\"/>\n",
              "    </g>\n",
              "</svg>\n",
              "      </button>\n",
              "\n",
              "<style>\n",
              "  .colab-df-quickchart {\n",
              "      --bg-color: #E8F0FE;\n",
              "      --fill-color: #1967D2;\n",
              "      --hover-bg-color: #E2EBFA;\n",
              "      --hover-fill-color: #174EA6;\n",
              "      --disabled-fill-color: #AAA;\n",
              "      --disabled-bg-color: #DDD;\n",
              "  }\n",
              "\n",
              "  [theme=dark] .colab-df-quickchart {\n",
              "      --bg-color: #3B4455;\n",
              "      --fill-color: #D2E3FC;\n",
              "      --hover-bg-color: #434B5C;\n",
              "      --hover-fill-color: #FFFFFF;\n",
              "      --disabled-bg-color: #3B4455;\n",
              "      --disabled-fill-color: #666;\n",
              "  }\n",
              "\n",
              "  .colab-df-quickchart {\n",
              "    background-color: var(--bg-color);\n",
              "    border: none;\n",
              "    border-radius: 50%;\n",
              "    cursor: pointer;\n",
              "    display: none;\n",
              "    fill: var(--fill-color);\n",
              "    height: 32px;\n",
              "    padding: 0;\n",
              "    width: 32px;\n",
              "  }\n",
              "\n",
              "  .colab-df-quickchart:hover {\n",
              "    background-color: var(--hover-bg-color);\n",
              "    box-shadow: 0 1px 2px rgba(60, 64, 67, 0.3), 0 1px 3px 1px rgba(60, 64, 67, 0.15);\n",
              "    fill: var(--button-hover-fill-color);\n",
              "  }\n",
              "\n",
              "  .colab-df-quickchart-complete:disabled,\n",
              "  .colab-df-quickchart-complete:disabled:hover {\n",
              "    background-color: var(--disabled-bg-color);\n",
              "    fill: var(--disabled-fill-color);\n",
              "    box-shadow: none;\n",
              "  }\n",
              "\n",
              "  .colab-df-spinner {\n",
              "    border: 2px solid var(--fill-color);\n",
              "    border-color: transparent;\n",
              "    border-bottom-color: var(--fill-color);\n",
              "    animation:\n",
              "      spin 1s steps(1) infinite;\n",
              "  }\n",
              "\n",
              "  @keyframes spin {\n",
              "    0% {\n",
              "      border-color: transparent;\n",
              "      border-bottom-color: var(--fill-color);\n",
              "      border-left-color: var(--fill-color);\n",
              "    }\n",
              "    20% {\n",
              "      border-color: transparent;\n",
              "      border-left-color: var(--fill-color);\n",
              "      border-top-color: var(--fill-color);\n",
              "    }\n",
              "    30% {\n",
              "      border-color: transparent;\n",
              "      border-left-color: var(--fill-color);\n",
              "      border-top-color: var(--fill-color);\n",
              "      border-right-color: var(--fill-color);\n",
              "    }\n",
              "    40% {\n",
              "      border-color: transparent;\n",
              "      border-right-color: var(--fill-color);\n",
              "      border-top-color: var(--fill-color);\n",
              "    }\n",
              "    60% {\n",
              "      border-color: transparent;\n",
              "      border-right-color: var(--fill-color);\n",
              "    }\n",
              "    80% {\n",
              "      border-color: transparent;\n",
              "      border-right-color: var(--fill-color);\n",
              "      border-bottom-color: var(--fill-color);\n",
              "    }\n",
              "    90% {\n",
              "      border-color: transparent;\n",
              "      border-bottom-color: var(--fill-color);\n",
              "    }\n",
              "  }\n",
              "</style>\n",
              "\n",
              "      <script>\n",
              "        async function quickchart(key) {\n",
              "          const quickchartButtonEl =\n",
              "            document.querySelector('#' + key + ' button');\n",
              "          quickchartButtonEl.disabled = true;  // To prevent multiple clicks.\n",
              "          quickchartButtonEl.classList.add('colab-df-spinner');\n",
              "          try {\n",
              "            const charts = await google.colab.kernel.invokeFunction(\n",
              "                'suggestCharts', [key], {});\n",
              "          } catch (error) {\n",
              "            console.error('Error during call to suggestCharts:', error);\n",
              "          }\n",
              "          quickchartButtonEl.classList.remove('colab-df-spinner');\n",
              "          quickchartButtonEl.classList.add('colab-df-quickchart-complete');\n",
              "        }\n",
              "        (() => {\n",
              "          let quickchartButtonEl =\n",
              "            document.querySelector('#df-63b25d62-eb33-4d82-b584-ac6efb58c23f button');\n",
              "          quickchartButtonEl.style.display =\n",
              "            google.colab.kernel.accessAllowed ? 'block' : 'none';\n",
              "        })();\n",
              "      </script>\n",
              "    </div>\n",
              "\n",
              "    </div>\n",
              "  </div>\n"
            ],
            "application/vnd.google.colaboratory.intrinsic+json": {
              "type": "dataframe",
              "variable_name": "df",
              "summary": "{\n  \"name\": \"df\",\n  \"rows\": 500,\n  \"fields\": [\n    {\n      \"column\": \"UserID\",\n      \"properties\": {\n        \"dtype\": \"number\",\n        \"std\": 144,\n        \"min\": 1,\n        \"max\": 500,\n        \"num_unique_values\": 500,\n        \"samples\": [\n          362,\n          74,\n          375\n        ],\n        \"semantic_type\": \"\",\n        \"description\": \"\"\n      }\n    },\n    {\n      \"column\": \"Age\",\n      \"properties\": {\n        \"dtype\": \"number\",\n        \"std\": 12,\n        \"min\": 18,\n        \"max\": 59,\n        \"num_unique_values\": 42,\n        \"samples\": [\n          26,\n          19,\n          41\n        ],\n        \"semantic_type\": \"\",\n        \"description\": \"\"\n      }\n    },\n    {\n      \"column\": \"TotalOrders\",\n      \"properties\": {\n        \"dtype\": \"number\",\n        \"std\": 5,\n        \"min\": 14,\n        \"max\": 47,\n        \"num_unique_values\": 32,\n        \"samples\": [\n          46,\n          23,\n          24\n        ],\n        \"semantic_type\": \"\",\n        \"description\": \"\"\n      }\n    },\n    {\n      \"column\": \"AverageSpend\",\n      \"properties\": {\n        \"dtype\": \"number\",\n        \"std\": 74.7324066607534,\n        \"min\": 80.9,\n        \"max\": 539.48,\n        \"num_unique_values\": 493,\n        \"samples\": [\n          355.41,\n          277.31,\n          178.87\n        ],\n        \"semantic_type\": \"\",\n        \"description\": \"\"\n      }\n    },\n    {\n      \"column\": \"FavoriteCuisine\",\n      \"properties\": {\n        \"dtype\": \"category\",\n        \"num_unique_values\": 5,\n        \"samples\": [\n          \"Thai\",\n          \"Indian\",\n          \"Italian\"\n        ],\n        \"semantic_type\": \"\",\n        \"description\": \"\"\n      }\n    },\n    {\n      \"column\": \"DeliveryRating\",\n      \"properties\": {\n        \"dtype\": \"number\",\n        \"std\": 0.7317941550536878,\n        \"min\": 2.5,\n        \"max\": 5.0,\n        \"num_unique_values\": 26,\n        \"samples\": [\n          2.8,\n          4.9,\n          4.6\n        ],\n        \"semantic_type\": \"\",\n        \"description\": \"\"\n      }\n    },\n    {\n      \"column\": \"AppUsageTimePerDay\",\n      \"properties\": {\n        \"dtype\": \"number\",\n        \"std\": 48.4724782235266,\n        \"min\": 10.1,\n        \"max\": 179.9,\n        \"num_unique_values\": 434,\n        \"samples\": [\n          56.8,\n          114.8,\n          101.1\n        ],\n        \"semantic_type\": \"\",\n        \"description\": \"\"\n      }\n    }\n  ]\n}"
            }
          },
          "metadata": {},
          "execution_count": 3
        }
      ],
      "source": [
        "df=pd.read_csv(\"https://samatrix-data.s3.ap-south-1.amazonaws.com/ML/food_delivery.csv\")\n",
        "df.head() #view first 5 entries"
      ]
    },
    {
      "cell_type": "markdown",
      "source": [
        "## Step 3 – Summary Statistics\n",
        "\n",
        "Initial exploration is performed to understand the basic structure of the dataset:\n",
        "\n",
        "- The total number of rows and columns is identified.\n",
        "- All column names are displayed.\n",
        "- Data types, memory usage, and non-null values for each column.\n",
        "- Basic statistics like mean, median, minimum, and maximum are observed for numerical columns.\n",
        "\n",
        "These steps provide insight into the dataset and help identify any necessary preprocessing tasks.\n"
      ],
      "metadata": {
        "id": "hmxwrluEIkbi"
      },
      "id": "hmxwrluEIkbi"
    },
    {
      "cell_type": "code",
      "execution_count": 4,
      "id": "201cb60b",
      "metadata": {
        "execution": {
          "iopub.execute_input": "2025-07-09T10:35:39.688398Z",
          "iopub.status.busy": "2025-07-09T10:35:39.688100Z",
          "iopub.status.idle": "2025-07-09T10:35:39.693558Z",
          "shell.execute_reply": "2025-07-09T10:35:39.692816Z"
        },
        "papermill": {
          "duration": 0.013649,
          "end_time": "2025-07-09T10:35:39.695008",
          "exception": false,
          "start_time": "2025-07-09T10:35:39.681359",
          "status": "completed"
        },
        "tags": [],
        "colab": {
          "base_uri": "https://localhost:8080/"
        },
        "id": "201cb60b",
        "outputId": "91a94ed2-27c5-4a8d-e986-8a35a2d4161c"
      },
      "outputs": [
        {
          "output_type": "execute_result",
          "data": {
            "text/plain": [
              "(500, 7)"
            ]
          },
          "metadata": {},
          "execution_count": 4
        }
      ],
      "source": [
        "df.shape #Check the shape of the dataset"
      ]
    },
    {
      "cell_type": "code",
      "execution_count": 5,
      "id": "aab5b75e",
      "metadata": {
        "execution": {
          "iopub.execute_input": "2025-07-09T10:35:39.708068Z",
          "iopub.status.busy": "2025-07-09T10:35:39.707735Z",
          "iopub.status.idle": "2025-07-09T10:35:39.715003Z",
          "shell.execute_reply": "2025-07-09T10:35:39.714096Z"
        },
        "papermill": {
          "duration": 0.015405,
          "end_time": "2025-07-09T10:35:39.716348",
          "exception": false,
          "start_time": "2025-07-09T10:35:39.700943",
          "status": "completed"
        },
        "tags": [],
        "colab": {
          "base_uri": "https://localhost:8080/"
        },
        "id": "aab5b75e",
        "outputId": "46d96872-1ac4-4df7-e417-2d8a82ee8a1c"
      },
      "outputs": [
        {
          "output_type": "execute_result",
          "data": {
            "text/plain": [
              "Index(['UserID', 'Age', 'TotalOrders', 'AverageSpend', 'FavoriteCuisine',\n",
              "       'DeliveryRating', 'AppUsageTimePerDay'],\n",
              "      dtype='object')"
            ]
          },
          "metadata": {},
          "execution_count": 5
        }
      ],
      "source": [
        "df.columns #View the names of column present in dataset"
      ]
    },
    {
      "cell_type": "code",
      "execution_count": 6,
      "id": "cd495142",
      "metadata": {
        "execution": {
          "iopub.execute_input": "2025-07-09T10:35:39.729516Z",
          "iopub.status.busy": "2025-07-09T10:35:39.729202Z",
          "iopub.status.idle": "2025-07-09T10:35:39.751404Z",
          "shell.execute_reply": "2025-07-09T10:35:39.750286Z"
        },
        "papermill": {
          "duration": 0.030443,
          "end_time": "2025-07-09T10:35:39.752917",
          "exception": false,
          "start_time": "2025-07-09T10:35:39.722474",
          "status": "completed"
        },
        "tags": [],
        "colab": {
          "base_uri": "https://localhost:8080/"
        },
        "id": "cd495142",
        "outputId": "d7add0f6-08b4-467b-a242-82fc083ce28d"
      },
      "outputs": [
        {
          "output_type": "stream",
          "name": "stdout",
          "text": [
            "<class 'pandas.core.frame.DataFrame'>\n",
            "RangeIndex: 500 entries, 0 to 499\n",
            "Data columns (total 7 columns):\n",
            " #   Column              Non-Null Count  Dtype  \n",
            "---  ------              --------------  -----  \n",
            " 0   UserID              500 non-null    int64  \n",
            " 1   Age                 500 non-null    int64  \n",
            " 2   TotalOrders         500 non-null    int64  \n",
            " 3   AverageSpend        500 non-null    float64\n",
            " 4   FavoriteCuisine     500 non-null    object \n",
            " 5   DeliveryRating      500 non-null    float64\n",
            " 6   AppUsageTimePerDay  500 non-null    float64\n",
            "dtypes: float64(3), int64(3), object(1)\n",
            "memory usage: 27.5+ KB\n"
          ]
        }
      ],
      "source": [
        "df.info() #Finding information about the dataset"
      ]
    },
    {
      "cell_type": "code",
      "execution_count": 7,
      "id": "5a96821f",
      "metadata": {
        "execution": {
          "iopub.execute_input": "2025-07-09T10:35:39.766325Z",
          "iopub.status.busy": "2025-07-09T10:35:39.766004Z",
          "iopub.status.idle": "2025-07-09T10:35:39.773180Z",
          "shell.execute_reply": "2025-07-09T10:35:39.772319Z"
        },
        "papermill": {
          "duration": 0.015291,
          "end_time": "2025-07-09T10:35:39.774516",
          "exception": false,
          "start_time": "2025-07-09T10:35:39.759225",
          "status": "completed"
        },
        "tags": [],
        "colab": {
          "base_uri": "https://localhost:8080/",
          "height": 320
        },
        "id": "5a96821f",
        "outputId": "e043453e-56fb-4cc4-fa48-96aba496cdfd"
      },
      "outputs": [
        {
          "output_type": "execute_result",
          "data": {
            "text/plain": [
              "           UserID         Age  TotalOrders  AverageSpend  DeliveryRating  \\\n",
              "count  500.000000  500.000000   500.000000    500.000000      500.000000   \n",
              "mean   250.500000   39.326000    29.714000    306.584680        3.759400   \n",
              "std    144.481833   12.200386     5.747196     74.732407        0.731794   \n",
              "min      1.000000   18.000000    14.000000     80.900000        2.500000   \n",
              "25%    125.750000   29.000000    25.000000    256.685000        3.100000   \n",
              "50%    250.500000   41.000000    30.000000    305.170000        3.800000   \n",
              "75%    375.250000   50.000000    33.000000    355.870000        4.400000   \n",
              "max    500.000000   59.000000    47.000000    539.480000        5.000000   \n",
              "\n",
              "       AppUsageTimePerDay  \n",
              "count          500.000000  \n",
              "mean            93.515400  \n",
              "std             48.472478  \n",
              "min             10.100000  \n",
              "25%             49.325000  \n",
              "50%             93.100000  \n",
              "75%            137.275000  \n",
              "max            179.900000  "
            ],
            "text/html": [
              "\n",
              "  <div id=\"df-f3952c1c-5b5a-45e9-93b8-2b48d5e10436\" class=\"colab-df-container\">\n",
              "    <div>\n",
              "<style scoped>\n",
              "    .dataframe tbody tr th:only-of-type {\n",
              "        vertical-align: middle;\n",
              "    }\n",
              "\n",
              "    .dataframe tbody tr th {\n",
              "        vertical-align: top;\n",
              "    }\n",
              "\n",
              "    .dataframe thead th {\n",
              "        text-align: right;\n",
              "    }\n",
              "</style>\n",
              "<table border=\"1\" class=\"dataframe\">\n",
              "  <thead>\n",
              "    <tr style=\"text-align: right;\">\n",
              "      <th></th>\n",
              "      <th>UserID</th>\n",
              "      <th>Age</th>\n",
              "      <th>TotalOrders</th>\n",
              "      <th>AverageSpend</th>\n",
              "      <th>DeliveryRating</th>\n",
              "      <th>AppUsageTimePerDay</th>\n",
              "    </tr>\n",
              "  </thead>\n",
              "  <tbody>\n",
              "    <tr>\n",
              "      <th>count</th>\n",
              "      <td>500.000000</td>\n",
              "      <td>500.000000</td>\n",
              "      <td>500.000000</td>\n",
              "      <td>500.000000</td>\n",
              "      <td>500.000000</td>\n",
              "      <td>500.000000</td>\n",
              "    </tr>\n",
              "    <tr>\n",
              "      <th>mean</th>\n",
              "      <td>250.500000</td>\n",
              "      <td>39.326000</td>\n",
              "      <td>29.714000</td>\n",
              "      <td>306.584680</td>\n",
              "      <td>3.759400</td>\n",
              "      <td>93.515400</td>\n",
              "    </tr>\n",
              "    <tr>\n",
              "      <th>std</th>\n",
              "      <td>144.481833</td>\n",
              "      <td>12.200386</td>\n",
              "      <td>5.747196</td>\n",
              "      <td>74.732407</td>\n",
              "      <td>0.731794</td>\n",
              "      <td>48.472478</td>\n",
              "    </tr>\n",
              "    <tr>\n",
              "      <th>min</th>\n",
              "      <td>1.000000</td>\n",
              "      <td>18.000000</td>\n",
              "      <td>14.000000</td>\n",
              "      <td>80.900000</td>\n",
              "      <td>2.500000</td>\n",
              "      <td>10.100000</td>\n",
              "    </tr>\n",
              "    <tr>\n",
              "      <th>25%</th>\n",
              "      <td>125.750000</td>\n",
              "      <td>29.000000</td>\n",
              "      <td>25.000000</td>\n",
              "      <td>256.685000</td>\n",
              "      <td>3.100000</td>\n",
              "      <td>49.325000</td>\n",
              "    </tr>\n",
              "    <tr>\n",
              "      <th>50%</th>\n",
              "      <td>250.500000</td>\n",
              "      <td>41.000000</td>\n",
              "      <td>30.000000</td>\n",
              "      <td>305.170000</td>\n",
              "      <td>3.800000</td>\n",
              "      <td>93.100000</td>\n",
              "    </tr>\n",
              "    <tr>\n",
              "      <th>75%</th>\n",
              "      <td>375.250000</td>\n",
              "      <td>50.000000</td>\n",
              "      <td>33.000000</td>\n",
              "      <td>355.870000</td>\n",
              "      <td>4.400000</td>\n",
              "      <td>137.275000</td>\n",
              "    </tr>\n",
              "    <tr>\n",
              "      <th>max</th>\n",
              "      <td>500.000000</td>\n",
              "      <td>59.000000</td>\n",
              "      <td>47.000000</td>\n",
              "      <td>539.480000</td>\n",
              "      <td>5.000000</td>\n",
              "      <td>179.900000</td>\n",
              "    </tr>\n",
              "  </tbody>\n",
              "</table>\n",
              "</div>\n",
              "    <div class=\"colab-df-buttons\">\n",
              "\n",
              "  <div class=\"colab-df-container\">\n",
              "    <button class=\"colab-df-convert\" onclick=\"convertToInteractive('df-f3952c1c-5b5a-45e9-93b8-2b48d5e10436')\"\n",
              "            title=\"Convert this dataframe to an interactive table.\"\n",
              "            style=\"display:none;\">\n",
              "\n",
              "  <svg xmlns=\"http://www.w3.org/2000/svg\" height=\"24px\" viewBox=\"0 -960 960 960\">\n",
              "    <path d=\"M120-120v-720h720v720H120Zm60-500h600v-160H180v160Zm220 220h160v-160H400v160Zm0 220h160v-160H400v160ZM180-400h160v-160H180v160Zm440 0h160v-160H620v160ZM180-180h160v-160H180v160Zm440 0h160v-160H620v160Z\"/>\n",
              "  </svg>\n",
              "    </button>\n",
              "\n",
              "  <style>\n",
              "    .colab-df-container {\n",
              "      display:flex;\n",
              "      gap: 12px;\n",
              "    }\n",
              "\n",
              "    .colab-df-convert {\n",
              "      background-color: #E8F0FE;\n",
              "      border: none;\n",
              "      border-radius: 50%;\n",
              "      cursor: pointer;\n",
              "      display: none;\n",
              "      fill: #1967D2;\n",
              "      height: 32px;\n",
              "      padding: 0 0 0 0;\n",
              "      width: 32px;\n",
              "    }\n",
              "\n",
              "    .colab-df-convert:hover {\n",
              "      background-color: #E2EBFA;\n",
              "      box-shadow: 0px 1px 2px rgba(60, 64, 67, 0.3), 0px 1px 3px 1px rgba(60, 64, 67, 0.15);\n",
              "      fill: #174EA6;\n",
              "    }\n",
              "\n",
              "    .colab-df-buttons div {\n",
              "      margin-bottom: 4px;\n",
              "    }\n",
              "\n",
              "    [theme=dark] .colab-df-convert {\n",
              "      background-color: #3B4455;\n",
              "      fill: #D2E3FC;\n",
              "    }\n",
              "\n",
              "    [theme=dark] .colab-df-convert:hover {\n",
              "      background-color: #434B5C;\n",
              "      box-shadow: 0px 1px 3px 1px rgba(0, 0, 0, 0.15);\n",
              "      filter: drop-shadow(0px 1px 2px rgba(0, 0, 0, 0.3));\n",
              "      fill: #FFFFFF;\n",
              "    }\n",
              "  </style>\n",
              "\n",
              "    <script>\n",
              "      const buttonEl =\n",
              "        document.querySelector('#df-f3952c1c-5b5a-45e9-93b8-2b48d5e10436 button.colab-df-convert');\n",
              "      buttonEl.style.display =\n",
              "        google.colab.kernel.accessAllowed ? 'block' : 'none';\n",
              "\n",
              "      async function convertToInteractive(key) {\n",
              "        const element = document.querySelector('#df-f3952c1c-5b5a-45e9-93b8-2b48d5e10436');\n",
              "        const dataTable =\n",
              "          await google.colab.kernel.invokeFunction('convertToInteractive',\n",
              "                                                    [key], {});\n",
              "        if (!dataTable) return;\n",
              "\n",
              "        const docLinkHtml = 'Like what you see? Visit the ' +\n",
              "          '<a target=\"_blank\" href=https://colab.research.google.com/notebooks/data_table.ipynb>data table notebook</a>'\n",
              "          + ' to learn more about interactive tables.';\n",
              "        element.innerHTML = '';\n",
              "        dataTable['output_type'] = 'display_data';\n",
              "        await google.colab.output.renderOutput(dataTable, element);\n",
              "        const docLink = document.createElement('div');\n",
              "        docLink.innerHTML = docLinkHtml;\n",
              "        element.appendChild(docLink);\n",
              "      }\n",
              "    </script>\n",
              "  </div>\n",
              "\n",
              "\n",
              "    <div id=\"df-c7451a7e-8b35-442f-8b5c-8a50280fb83d\">\n",
              "      <button class=\"colab-df-quickchart\" onclick=\"quickchart('df-c7451a7e-8b35-442f-8b5c-8a50280fb83d')\"\n",
              "                title=\"Suggest charts\"\n",
              "                style=\"display:none;\">\n",
              "\n",
              "<svg xmlns=\"http://www.w3.org/2000/svg\" height=\"24px\"viewBox=\"0 0 24 24\"\n",
              "     width=\"24px\">\n",
              "    <g>\n",
              "        <path d=\"M19 3H5c-1.1 0-2 .9-2 2v14c0 1.1.9 2 2 2h14c1.1 0 2-.9 2-2V5c0-1.1-.9-2-2-2zM9 17H7v-7h2v7zm4 0h-2V7h2v10zm4 0h-2v-4h2v4z\"/>\n",
              "    </g>\n",
              "</svg>\n",
              "      </button>\n",
              "\n",
              "<style>\n",
              "  .colab-df-quickchart {\n",
              "      --bg-color: #E8F0FE;\n",
              "      --fill-color: #1967D2;\n",
              "      --hover-bg-color: #E2EBFA;\n",
              "      --hover-fill-color: #174EA6;\n",
              "      --disabled-fill-color: #AAA;\n",
              "      --disabled-bg-color: #DDD;\n",
              "  }\n",
              "\n",
              "  [theme=dark] .colab-df-quickchart {\n",
              "      --bg-color: #3B4455;\n",
              "      --fill-color: #D2E3FC;\n",
              "      --hover-bg-color: #434B5C;\n",
              "      --hover-fill-color: #FFFFFF;\n",
              "      --disabled-bg-color: #3B4455;\n",
              "      --disabled-fill-color: #666;\n",
              "  }\n",
              "\n",
              "  .colab-df-quickchart {\n",
              "    background-color: var(--bg-color);\n",
              "    border: none;\n",
              "    border-radius: 50%;\n",
              "    cursor: pointer;\n",
              "    display: none;\n",
              "    fill: var(--fill-color);\n",
              "    height: 32px;\n",
              "    padding: 0;\n",
              "    width: 32px;\n",
              "  }\n",
              "\n",
              "  .colab-df-quickchart:hover {\n",
              "    background-color: var(--hover-bg-color);\n",
              "    box-shadow: 0 1px 2px rgba(60, 64, 67, 0.3), 0 1px 3px 1px rgba(60, 64, 67, 0.15);\n",
              "    fill: var(--button-hover-fill-color);\n",
              "  }\n",
              "\n",
              "  .colab-df-quickchart-complete:disabled,\n",
              "  .colab-df-quickchart-complete:disabled:hover {\n",
              "    background-color: var(--disabled-bg-color);\n",
              "    fill: var(--disabled-fill-color);\n",
              "    box-shadow: none;\n",
              "  }\n",
              "\n",
              "  .colab-df-spinner {\n",
              "    border: 2px solid var(--fill-color);\n",
              "    border-color: transparent;\n",
              "    border-bottom-color: var(--fill-color);\n",
              "    animation:\n",
              "      spin 1s steps(1) infinite;\n",
              "  }\n",
              "\n",
              "  @keyframes spin {\n",
              "    0% {\n",
              "      border-color: transparent;\n",
              "      border-bottom-color: var(--fill-color);\n",
              "      border-left-color: var(--fill-color);\n",
              "    }\n",
              "    20% {\n",
              "      border-color: transparent;\n",
              "      border-left-color: var(--fill-color);\n",
              "      border-top-color: var(--fill-color);\n",
              "    }\n",
              "    30% {\n",
              "      border-color: transparent;\n",
              "      border-left-color: var(--fill-color);\n",
              "      border-top-color: var(--fill-color);\n",
              "      border-right-color: var(--fill-color);\n",
              "    }\n",
              "    40% {\n",
              "      border-color: transparent;\n",
              "      border-right-color: var(--fill-color);\n",
              "      border-top-color: var(--fill-color);\n",
              "    }\n",
              "    60% {\n",
              "      border-color: transparent;\n",
              "      border-right-color: var(--fill-color);\n",
              "    }\n",
              "    80% {\n",
              "      border-color: transparent;\n",
              "      border-right-color: var(--fill-color);\n",
              "      border-bottom-color: var(--fill-color);\n",
              "    }\n",
              "    90% {\n",
              "      border-color: transparent;\n",
              "      border-bottom-color: var(--fill-color);\n",
              "    }\n",
              "  }\n",
              "</style>\n",
              "\n",
              "      <script>\n",
              "        async function quickchart(key) {\n",
              "          const quickchartButtonEl =\n",
              "            document.querySelector('#' + key + ' button');\n",
              "          quickchartButtonEl.disabled = true;  // To prevent multiple clicks.\n",
              "          quickchartButtonEl.classList.add('colab-df-spinner');\n",
              "          try {\n",
              "            const charts = await google.colab.kernel.invokeFunction(\n",
              "                'suggestCharts', [key], {});\n",
              "          } catch (error) {\n",
              "            console.error('Error during call to suggestCharts:', error);\n",
              "          }\n",
              "          quickchartButtonEl.classList.remove('colab-df-spinner');\n",
              "          quickchartButtonEl.classList.add('colab-df-quickchart-complete');\n",
              "        }\n",
              "        (() => {\n",
              "          let quickchartButtonEl =\n",
              "            document.querySelector('#df-c7451a7e-8b35-442f-8b5c-8a50280fb83d button');\n",
              "          quickchartButtonEl.style.display =\n",
              "            google.colab.kernel.accessAllowed ? 'block' : 'none';\n",
              "        })();\n",
              "      </script>\n",
              "    </div>\n",
              "\n",
              "    </div>\n",
              "  </div>\n"
            ],
            "application/vnd.google.colaboratory.intrinsic+json": {
              "type": "dataframe",
              "summary": "{\n  \"name\": \"df\",\n  \"rows\": 8,\n  \"fields\": [\n    {\n      \"column\": \"UserID\",\n      \"properties\": {\n        \"dtype\": \"number\",\n        \"std\": 179.8977277873755,\n        \"min\": 1.0,\n        \"max\": 500.0,\n        \"num_unique_values\": 6,\n        \"samples\": [\n          500.0,\n          250.5,\n          375.25\n        ],\n        \"semantic_type\": \"\",\n        \"description\": \"\"\n      }\n    },\n    {\n      \"column\": \"Age\",\n      \"properties\": {\n        \"dtype\": \"number\",\n        \"std\": 164.96143049150106,\n        \"min\": 12.200386176088495,\n        \"max\": 500.0,\n        \"num_unique_values\": 8,\n        \"samples\": [\n          39.326,\n          41.0,\n          500.0\n        ],\n        \"semantic_type\": \"\",\n        \"description\": \"\"\n      }\n    },\n    {\n      \"column\": \"TotalOrders\",\n      \"properties\": {\n        \"dtype\": \"number\",\n        \"std\": 167.91752266136592,\n        \"min\": 5.747196231995051,\n        \"max\": 500.0,\n        \"num_unique_values\": 8,\n        \"samples\": [\n          29.714,\n          30.0,\n          500.0\n        ],\n        \"semantic_type\": \"\",\n        \"description\": \"\"\n      }\n    },\n    {\n      \"column\": \"AverageSpend\",\n      \"properties\": {\n        \"dtype\": \"number\",\n        \"std\": 169.5041296855863,\n        \"min\": 74.7324066607534,\n        \"max\": 539.48,\n        \"num_unique_values\": 8,\n        \"samples\": [\n          306.58468,\n          305.16999999999996,\n          500.0\n        ],\n        \"semantic_type\": \"\",\n        \"description\": \"\"\n      }\n    },\n    {\n      \"column\": \"DeliveryRating\",\n      \"properties\": {\n        \"dtype\": \"number\",\n        \"std\": 175.60512495613463,\n        \"min\": 0.7317941550536878,\n        \"max\": 500.0,\n        \"num_unique_values\": 8,\n        \"samples\": [\n          3.7594,\n          3.8,\n          500.0\n        ],\n        \"semantic_type\": \"\",\n        \"description\": \"\"\n      }\n    },\n    {\n      \"column\": \"AppUsageTimePerDay\",\n      \"properties\": {\n        \"dtype\": \"number\",\n        \"std\": 155.39097239297925,\n        \"min\": 10.1,\n        \"max\": 500.0,\n        \"num_unique_values\": 8,\n        \"samples\": [\n          93.5154,\n          93.1,\n          500.0\n        ],\n        \"semantic_type\": \"\",\n        \"description\": \"\"\n      }\n    }\n  ]\n}"
            }
          },
          "metadata": {},
          "execution_count": 7
        }
      ],
      "source": [
        "df.describe() #Find the statistical summary of the dataset"
      ]
    },
    {
      "cell_type": "markdown",
      "source": [
        "## Step 4 – Check for Missing Values\n",
        "\n",
        "Missing values in the dataset are identified. Each column is checked to count how many values are missing. This step helps in deciding whether to fill, drop, or handle missing data during preprocessing.\n",
        "\n",
        "Additionally, the frequency of each unique value in the 'FavoriteCuisine' column is shown to understand the distribution of customer preferences.\n"
      ],
      "metadata": {
        "id": "ZB5_POklIrw_"
      },
      "id": "ZB5_POklIrw_"
    },
    {
      "cell_type": "code",
      "execution_count": 8,
      "id": "8c883c88",
      "metadata": {
        "execution": {
          "iopub.execute_input": "2025-07-09T10:35:39.788707Z",
          "iopub.status.busy": "2025-07-09T10:35:39.788357Z",
          "iopub.status.idle": "2025-07-09T10:35:39.814038Z",
          "shell.execute_reply": "2025-07-09T10:35:39.813116Z"
        },
        "papermill": {
          "duration": 0.034118,
          "end_time": "2025-07-09T10:35:39.815491",
          "exception": false,
          "start_time": "2025-07-09T10:35:39.781373",
          "status": "completed"
        },
        "tags": [],
        "colab": {
          "base_uri": "https://localhost:8080/",
          "height": 303
        },
        "id": "8c883c88",
        "outputId": "f22ce8f7-7915-470c-869b-6bf2a04f5612"
      },
      "outputs": [
        {
          "output_type": "execute_result",
          "data": {
            "text/plain": [
              "UserID                0\n",
              "Age                   0\n",
              "TotalOrders           0\n",
              "AverageSpend          0\n",
              "FavoriteCuisine       0\n",
              "DeliveryRating        0\n",
              "AppUsageTimePerDay    0\n",
              "dtype: int64"
            ],
            "text/html": [
              "<div>\n",
              "<style scoped>\n",
              "    .dataframe tbody tr th:only-of-type {\n",
              "        vertical-align: middle;\n",
              "    }\n",
              "\n",
              "    .dataframe tbody tr th {\n",
              "        vertical-align: top;\n",
              "    }\n",
              "\n",
              "    .dataframe thead th {\n",
              "        text-align: right;\n",
              "    }\n",
              "</style>\n",
              "<table border=\"1\" class=\"dataframe\">\n",
              "  <thead>\n",
              "    <tr style=\"text-align: right;\">\n",
              "      <th></th>\n",
              "      <th>0</th>\n",
              "    </tr>\n",
              "  </thead>\n",
              "  <tbody>\n",
              "    <tr>\n",
              "      <th>UserID</th>\n",
              "      <td>0</td>\n",
              "    </tr>\n",
              "    <tr>\n",
              "      <th>Age</th>\n",
              "      <td>0</td>\n",
              "    </tr>\n",
              "    <tr>\n",
              "      <th>TotalOrders</th>\n",
              "      <td>0</td>\n",
              "    </tr>\n",
              "    <tr>\n",
              "      <th>AverageSpend</th>\n",
              "      <td>0</td>\n",
              "    </tr>\n",
              "    <tr>\n",
              "      <th>FavoriteCuisine</th>\n",
              "      <td>0</td>\n",
              "    </tr>\n",
              "    <tr>\n",
              "      <th>DeliveryRating</th>\n",
              "      <td>0</td>\n",
              "    </tr>\n",
              "    <tr>\n",
              "      <th>AppUsageTimePerDay</th>\n",
              "      <td>0</td>\n",
              "    </tr>\n",
              "  </tbody>\n",
              "</table>\n",
              "</div><br><label><b>dtype:</b> int64</label>"
            ]
          },
          "metadata": {},
          "execution_count": 8
        }
      ],
      "source": [
        "# check if there are any null values in the dataset\n",
        "df.isna().sum()"
      ]
    },
    {
      "cell_type": "code",
      "source": [
        "# check for duplicates in the dataset\n",
        "# This will help us identify if there are any repeated entries in the dataset.\n",
        "print(df.duplicated().sum())"
      ],
      "metadata": {
        "colab": {
          "base_uri": "https://localhost:8080/"
        },
        "id": "Kp8tycdnI-bu",
        "outputId": "2e799b6d-f005-4db1-b31c-702835e217a4"
      },
      "id": "Kp8tycdnI-bu",
      "execution_count": 9,
      "outputs": [
        {
          "output_type": "stream",
          "name": "stdout",
          "text": [
            "0\n"
          ]
        }
      ]
    },
    {
      "cell_type": "code",
      "execution_count": 10,
      "id": "17818de0",
      "metadata": {
        "execution": {
          "iopub.execute_input": "2025-07-09T10:35:39.830392Z",
          "iopub.status.busy": "2025-07-09T10:35:39.829494Z",
          "iopub.status.idle": "2025-07-09T10:35:39.837192Z",
          "shell.execute_reply": "2025-07-09T10:35:39.836409Z"
        },
        "papermill": {
          "duration": 0.016752,
          "end_time": "2025-07-09T10:35:39.838893",
          "exception": false,
          "start_time": "2025-07-09T10:35:39.822141",
          "status": "completed"
        },
        "tags": [],
        "colab": {
          "base_uri": "https://localhost:8080/",
          "height": 272
        },
        "id": "17818de0",
        "outputId": "3cc8daf3-73f8-4c12-b76b-2a5e93437910"
      },
      "outputs": [
        {
          "output_type": "execute_result",
          "data": {
            "text/plain": [
              "FavoriteCuisine\n",
              "Thai       108\n",
              "Italian    106\n",
              "Indian     104\n",
              "Mexican     95\n",
              "Chinese     87\n",
              "Name: count, dtype: int64"
            ],
            "text/html": [
              "<div>\n",
              "<style scoped>\n",
              "    .dataframe tbody tr th:only-of-type {\n",
              "        vertical-align: middle;\n",
              "    }\n",
              "\n",
              "    .dataframe tbody tr th {\n",
              "        vertical-align: top;\n",
              "    }\n",
              "\n",
              "    .dataframe thead th {\n",
              "        text-align: right;\n",
              "    }\n",
              "</style>\n",
              "<table border=\"1\" class=\"dataframe\">\n",
              "  <thead>\n",
              "    <tr style=\"text-align: right;\">\n",
              "      <th></th>\n",
              "      <th>count</th>\n",
              "    </tr>\n",
              "    <tr>\n",
              "      <th>FavoriteCuisine</th>\n",
              "      <th></th>\n",
              "    </tr>\n",
              "  </thead>\n",
              "  <tbody>\n",
              "    <tr>\n",
              "      <th>Thai</th>\n",
              "      <td>108</td>\n",
              "    </tr>\n",
              "    <tr>\n",
              "      <th>Italian</th>\n",
              "      <td>106</td>\n",
              "    </tr>\n",
              "    <tr>\n",
              "      <th>Indian</th>\n",
              "      <td>104</td>\n",
              "    </tr>\n",
              "    <tr>\n",
              "      <th>Mexican</th>\n",
              "      <td>95</td>\n",
              "    </tr>\n",
              "    <tr>\n",
              "      <th>Chinese</th>\n",
              "      <td>87</td>\n",
              "    </tr>\n",
              "  </tbody>\n",
              "</table>\n",
              "</div><br><label><b>dtype:</b> int64</label>"
            ]
          },
          "metadata": {},
          "execution_count": 10
        }
      ],
      "source": [
        "# check the value counts of the 'FavoriteCuisine' column\n",
        "# This will help us understand the distribution of favorite cuisines among the customers.\n",
        "df['FavoriteCuisine'].value_counts()"
      ]
    },
    {
      "cell_type": "code",
      "execution_count": 11,
      "id": "8ccb3db6",
      "metadata": {
        "execution": {
          "iopub.execute_input": "2025-07-09T10:35:39.852941Z",
          "iopub.status.busy": "2025-07-09T10:35:39.852577Z",
          "iopub.status.idle": "2025-07-09T10:35:39.857549Z",
          "shell.execute_reply": "2025-07-09T10:35:39.856872Z"
        },
        "papermill": {
          "duration": 0.013538,
          "end_time": "2025-07-09T10:35:39.858941",
          "exception": false,
          "start_time": "2025-07-09T10:35:39.845403",
          "status": "completed"
        },
        "tags": [],
        "id": "8ccb3db6"
      },
      "outputs": [],
      "source": [
        "#selecting all numerical columns from the DataFrame df\n",
        "#This is useful when you want to perform operations like statistical analysis, plotting, or scaling only on numerical data, while ignoring non-numerical columns like strings or dates.\n",
        "numercial_cols = df.select_dtypes(include=['int64','float64'])"
      ]
    },
    {
      "cell_type": "markdown",
      "source": [
        "### Using Label encoder\n",
        "LabelEncoder is used to convert categorical text data into numerical form. It assigns a unique integer (0, 1, 2, ...) to each unique category in a column.\n",
        "\n",
        "Many machine learning models work only with numerical input. LabelEncoder helps by transforming labels (like 'Male', 'Female', 'Yes', 'No') into numerical values that models can understand."
      ],
      "metadata": {
        "id": "MOWPga0sJYQs"
      },
      "id": "MOWPga0sJYQs"
    },
    {
      "cell_type": "code",
      "execution_count": 12,
      "id": "71ee6758",
      "metadata": {
        "execution": {
          "iopub.execute_input": "2025-07-09T10:35:40.072958Z",
          "iopub.status.busy": "2025-07-09T10:35:40.072610Z",
          "iopub.status.idle": "2025-07-09T10:35:40.081139Z",
          "shell.execute_reply": "2025-07-09T10:35:40.080259Z"
        },
        "papermill": {
          "duration": 0.01752,
          "end_time": "2025-07-09T10:35:40.082714",
          "exception": false,
          "start_time": "2025-07-09T10:35:40.065194",
          "status": "completed"
        },
        "tags": [],
        "colab": {
          "base_uri": "https://localhost:8080/",
          "height": 458
        },
        "id": "71ee6758",
        "outputId": "4ef141aa-9e28-4b1c-88bc-cce711a7339f"
      },
      "outputs": [
        {
          "output_type": "execute_result",
          "data": {
            "text/plain": [
              "0      3\n",
              "1      3\n",
              "2      3\n",
              "3      4\n",
              "4      2\n",
              "      ..\n",
              "495    4\n",
              "496    0\n",
              "497    4\n",
              "498    4\n",
              "499    3\n",
              "Name: FavoriteCuisine, Length: 500, dtype: int64"
            ],
            "text/html": [
              "<div>\n",
              "<style scoped>\n",
              "    .dataframe tbody tr th:only-of-type {\n",
              "        vertical-align: middle;\n",
              "    }\n",
              "\n",
              "    .dataframe tbody tr th {\n",
              "        vertical-align: top;\n",
              "    }\n",
              "\n",
              "    .dataframe thead th {\n",
              "        text-align: right;\n",
              "    }\n",
              "</style>\n",
              "<table border=\"1\" class=\"dataframe\">\n",
              "  <thead>\n",
              "    <tr style=\"text-align: right;\">\n",
              "      <th></th>\n",
              "      <th>FavoriteCuisine</th>\n",
              "    </tr>\n",
              "  </thead>\n",
              "  <tbody>\n",
              "    <tr>\n",
              "      <th>0</th>\n",
              "      <td>3</td>\n",
              "    </tr>\n",
              "    <tr>\n",
              "      <th>1</th>\n",
              "      <td>3</td>\n",
              "    </tr>\n",
              "    <tr>\n",
              "      <th>2</th>\n",
              "      <td>3</td>\n",
              "    </tr>\n",
              "    <tr>\n",
              "      <th>3</th>\n",
              "      <td>4</td>\n",
              "    </tr>\n",
              "    <tr>\n",
              "      <th>4</th>\n",
              "      <td>2</td>\n",
              "    </tr>\n",
              "    <tr>\n",
              "      <th>...</th>\n",
              "      <td>...</td>\n",
              "    </tr>\n",
              "    <tr>\n",
              "      <th>495</th>\n",
              "      <td>4</td>\n",
              "    </tr>\n",
              "    <tr>\n",
              "      <th>496</th>\n",
              "      <td>0</td>\n",
              "    </tr>\n",
              "    <tr>\n",
              "      <th>497</th>\n",
              "      <td>4</td>\n",
              "    </tr>\n",
              "    <tr>\n",
              "      <th>498</th>\n",
              "      <td>4</td>\n",
              "    </tr>\n",
              "    <tr>\n",
              "      <th>499</th>\n",
              "      <td>3</td>\n",
              "    </tr>\n",
              "  </tbody>\n",
              "</table>\n",
              "<p>500 rows × 1 columns</p>\n",
              "</div><br><label><b>dtype:</b> int64</label>"
            ]
          },
          "metadata": {},
          "execution_count": 12
        }
      ],
      "source": [
        "le = LabelEncoder()\n",
        "df['FavoriteCuisine'] = le.fit_transform(df['FavoriteCuisine'])\n",
        "df['FavoriteCuisine']"
      ]
    },
    {
      "cell_type": "markdown",
      "source": [
        "### Correlation Matrix\n",
        "\n",
        "A correlation matrix is a table that shows the pairwise correlation coefficients between multiple variables (usually numerical). It tells us how strongly and in what direction variables are related to each other."
      ],
      "metadata": {
        "id": "TAlYkF9RJj-a"
      },
      "id": "TAlYkF9RJj-a"
    },
    {
      "cell_type": "code",
      "execution_count": 14,
      "id": "2d660f53",
      "metadata": {
        "execution": {
          "iopub.execute_input": "2025-07-09T10:35:40.118939Z",
          "iopub.status.busy": "2025-07-09T10:35:40.118285Z",
          "iopub.status.idle": "2025-07-09T10:35:40.548976Z",
          "shell.execute_reply": "2025-07-09T10:35:40.547826Z"
        },
        "papermill": {
          "duration": 0.440508,
          "end_time": "2025-07-09T10:35:40.551366",
          "exception": false,
          "start_time": "2025-07-09T10:35:40.110858",
          "status": "completed"
        },
        "tags": [],
        "colab": {
          "base_uri": "https://localhost:8080/",
          "height": 576
        },
        "id": "2d660f53",
        "outputId": "3e673fdd-79af-4dc0-e347-d11049631916"
      },
      "outputs": [
        {
          "output_type": "display_data",
          "data": {
            "text/plain": [
              "<Figure size 640x480 with 2 Axes>"
            ],
            "image/png": "[encoded data removed]"
          },
          "metadata": {}
        }
      ],
      "source": [
        "corr = df.corr()\n",
        "sns.heatmap(corr,annot =True)\n",
        "plt.show()"
      ]
    },
    {
      "cell_type": "markdown",
      "source": [
        "## Step 5 – Keep Only Useful Columns\n",
        "\n",
        "Irrelevant columns like 'UserID' is removed from the dataset because they do not contribute to clustering. The rest of the features, especially numerical ones, are retained for further processing. This step ensures the model focuses only on meaningful attributes.\n"
      ],
      "metadata": {
        "id": "HFEfrEEvI4il"
      },
      "id": "HFEfrEEvI4il"
    },
    {
      "cell_type": "code",
      "execution_count": 15,
      "id": "ca18f497",
      "metadata": {
        "execution": {
          "iopub.execute_input": "2025-07-09T10:35:40.569811Z",
          "iopub.status.busy": "2025-07-09T10:35:40.569427Z",
          "iopub.status.idle": "2025-07-09T10:35:40.583425Z",
          "shell.execute_reply": "2025-07-09T10:35:40.582459Z"
        },
        "papermill": {
          "duration": 0.024221,
          "end_time": "2025-07-09T10:35:40.584950",
          "exception": false,
          "start_time": "2025-07-09T10:35:40.560729",
          "status": "completed"
        },
        "tags": [],
        "colab": {
          "base_uri": "https://localhost:8080/",
          "height": 443
        },
        "id": "ca18f497",
        "outputId": "02ffa892-ee65-47a4-cca3-81bf3932d6ee"
      },
      "outputs": [
        {
          "output_type": "execute_result",
          "data": {
            "text/plain": [
              "     Age  TotalOrders  AverageSpend  FavoriteCuisine  DeliveryRating  \\\n",
              "0     56           37        312.70                3             4.6   \n",
              "1     46           34        193.97                3             3.0   \n",
              "2     32           22        291.66                3             4.1   \n",
              "3     25           30        232.21                4             3.7   \n",
              "4     38           27        244.84                2             4.7   \n",
              "..   ...          ...           ...              ...             ...   \n",
              "495   56           30        398.62                4             4.3   \n",
              "496   49           27        423.00                0             3.6   \n",
              "497   41           31        355.66                4             3.6   \n",
              "498   40           29        305.66                4             4.1   \n",
              "499   49           24        179.85                3             4.8   \n",
              "\n",
              "     AppUsageTimePerDay  \n",
              "0                  20.9  \n",
              "1                 150.2  \n",
              "2                  59.7  \n",
              "3                  85.5  \n",
              "4                  13.7  \n",
              "..                  ...  \n",
              "495               150.7  \n",
              "496                39.0  \n",
              "497                15.2  \n",
              "498                44.8  \n",
              "499                67.9  \n",
              "\n",
              "[500 rows x 6 columns]"
            ],
            "text/html": [
              "\n",
              "  <div id=\"df-e12f5dcb-88d4-42ec-ac82-46333612217e\" class=\"colab-df-container\">\n",
              "    <div>\n",
              "<style scoped>\n",
              "    .dataframe tbody tr th:only-of-type {\n",
              "        vertical-align: middle;\n",
              "    }\n",
              "\n",
              "    .dataframe tbody tr th {\n",
              "        vertical-align: top;\n",
              "    }\n",
              "\n",
              "    .dataframe thead th {\n",
              "        text-align: right;\n",
              "    }\n",
              "</style>\n",
              "<table border=\"1\" class=\"dataframe\">\n",
              "  <thead>\n",
              "    <tr style=\"text-align: right;\">\n",
              "      <th></th>\n",
              "      <th>Age</th>\n",
              "      <th>TotalOrders</th>\n",
              "      <th>AverageSpend</th>\n",
              "      <th>FavoriteCuisine</th>\n",
              "      <th>DeliveryRating</th>\n",
              "      <th>AppUsageTimePerDay</th>\n",
              "    </tr>\n",
              "  </thead>\n",
              "  <tbody>\n",
              "    <tr>\n",
              "      <th>0</th>\n",
              "      <td>56</td>\n",
              "      <td>37</td>\n",
              "      <td>312.70</td>\n",
              "      <td>3</td>\n",
              "      <td>4.6</td>\n",
              "      <td>20.9</td>\n",
              "    </tr>\n",
              "    <tr>\n",
              "      <th>1</th>\n",
              "      <td>46</td>\n",
              "      <td>34</td>\n",
              "      <td>193.97</td>\n",
              "      <td>3</td>\n",
              "      <td>3.0</td>\n",
              "      <td>150.2</td>\n",
              "    </tr>\n",
              "    <tr>\n",
              "      <th>2</th>\n",
              "      <td>32</td>\n",
              "      <td>22</td>\n",
              "      <td>291.66</td>\n",
              "      <td>3</td>\n",
              "      <td>4.1</td>\n",
              "      <td>59.7</td>\n",
              "    </tr>\n",
              "    <tr>\n",
              "      <th>3</th>\n",
              "      <td>25</td>\n",
              "      <td>30</td>\n",
              "      <td>232.21</td>\n",
              "      <td>4</td>\n",
              "      <td>3.7</td>\n",
              "      <td>85.5</td>\n",
              "    </tr>\n",
              "    <tr>\n",
              "      <th>4</th>\n",
              "      <td>38</td>\n",
              "      <td>27</td>\n",
              "      <td>244.84</td>\n",
              "      <td>2</td>\n",
              "      <td>4.7</td>\n",
              "      <td>13.7</td>\n",
              "    </tr>\n",
              "    <tr>\n",
              "      <th>...</th>\n",
              "      <td>...</td>\n",
              "      <td>...</td>\n",
              "      <td>...</td>\n",
              "      <td>...</td>\n",
              "      <td>...</td>\n",
              "      <td>...</td>\n",
              "    </tr>\n",
              "    <tr>\n",
              "      <th>495</th>\n",
              "      <td>56</td>\n",
              "      <td>30</td>\n",
              "      <td>398.62</td>\n",
              "      <td>4</td>\n",
              "      <td>4.3</td>\n",
              "      <td>150.7</td>\n",
              "    </tr>\n",
              "    <tr>\n",
              "      <th>496</th>\n",
              "      <td>49</td>\n",
              "      <td>27</td>\n",
              "      <td>423.00</td>\n",
              "      <td>0</td>\n",
              "      <td>3.6</td>\n",
              "      <td>39.0</td>\n",
              "    </tr>\n",
              "    <tr>\n",
              "      <th>497</th>\n",
              "      <td>41</td>\n",
              "      <td>31</td>\n",
              "      <td>355.66</td>\n",
              "      <td>4</td>\n",
              "      <td>3.6</td>\n",
              "      <td>15.2</td>\n",
              "    </tr>\n",
              "    <tr>\n",
              "      <th>498</th>\n",
              "      <td>40</td>\n",
              "      <td>29</td>\n",
              "      <td>305.66</td>\n",
              "      <td>4</td>\n",
              "      <td>4.1</td>\n",
              "      <td>44.8</td>\n",
              "    </tr>\n",
              "    <tr>\n",
              "      <th>499</th>\n",
              "      <td>49</td>\n",
              "      <td>24</td>\n",
              "      <td>179.85</td>\n",
              "      <td>3</td>\n",
              "      <td>4.8</td>\n",
              "      <td>67.9</td>\n",
              "    </tr>\n",
              "  </tbody>\n",
              "</table>\n",
              "<p>500 rows × 6 columns</p>\n",
              "</div>\n",
              "    <div class=\"colab-df-buttons\">\n",
              "\n",
              "  <div class=\"colab-df-container\">\n",
              "    <button class=\"colab-df-convert\" onclick=\"convertToInteractive('df-e12f5dcb-88d4-42ec-ac82-46333612217e')\"\n",
              "            title=\"Convert this dataframe to an interactive table.\"\n",
              "            style=\"display:none;\">\n",
              "\n",
              "  <svg xmlns=\"http://www.w3.org/2000/svg\" height=\"24px\" viewBox=\"0 -960 960 960\">\n",
              "    <path d=\"M120-120v-720h720v720H120Zm60-500h600v-160H180v160Zm220 220h160v-160H400v160Zm0 220h160v-160H400v160ZM180-400h160v-160H180v160Zm440 0h160v-160H620v160ZM180-180h160v-160H180v160Zm440 0h160v-160H620v160Z\"/>\n",
              "  </svg>\n",
              "    </button>\n",
              "\n",
              "  <style>\n",
              "    .colab-df-container {\n",
              "      display:flex;\n",
              "      gap: 12px;\n",
              "    }\n",
              "\n",
              "    .colab-df-convert {\n",
              "      background-color: #E8F0FE;\n",
              "      border: none;\n",
              "      border-radius: 50%;\n",
              "      cursor: pointer;\n",
              "      display: none;\n",
              "      fill: #1967D2;\n",
              "      height: 32px;\n",
              "      padding: 0 0 0 0;\n",
              "      width: 32px;\n",
              "    }\n",
              "\n",
              "    .colab-df-convert:hover {\n",
              "      background-color: #E2EBFA;\n",
              "      box-shadow: 0px 1px 2px rgba(60, 64, 67, 0.3), 0px 1px 3px 1px rgba(60, 64, 67, 0.15);\n",
              "      fill: #174EA6;\n",
              "    }\n",
              "\n",
              "    .colab-df-buttons div {\n",
              "      margin-bottom: 4px;\n",
              "    }\n",
              "\n",
              "    [theme=dark] .colab-df-convert {\n",
              "      background-color: #3B4455;\n",
              "      fill: #D2E3FC;\n",
              "    }\n",
              "\n",
              "    [theme=dark] .colab-df-convert:hover {\n",
              "      background-color: #434B5C;\n",
              "      box-shadow: 0px 1px 3px 1px rgba(0, 0, 0, 0.15);\n",
              "      filter: drop-shadow(0px 1px 2px rgba(0, 0, 0, 0.3));\n",
              "      fill: #FFFFFF;\n",
              "    }\n",
              "  </style>\n",
              "\n",
              "    <script>\n",
              "      const buttonEl =\n",
              "        document.querySelector('#df-e12f5dcb-88d4-42ec-ac82-46333612217e button.colab-df-convert');\n",
              "      buttonEl.style.display =\n",
              "        google.colab.kernel.accessAllowed ? 'block' : 'none';\n",
              "\n",
              "      async function convertToInteractive(key) {\n",
              "        const element = document.querySelector('#df-e12f5dcb-88d4-42ec-ac82-46333612217e');\n",
              "        const dataTable =\n",
              "          await google.colab.kernel.invokeFunction('convertToInteractive',\n",
              "                                                    [key], {});\n",
              "        if (!dataTable) return;\n",
              "\n",
              "        const docLinkHtml = 'Like what you see? Visit the ' +\n",
              "          '<a target=\"_blank\" href=https://colab.research.google.com/notebooks/data_table.ipynb>data table notebook</a>'\n",
              "          + ' to learn more about interactive tables.';\n",
              "        element.innerHTML = '';\n",
              "        dataTable['output_type'] = 'display_data';\n",
              "        await google.colab.output.renderOutput(dataTable, element);\n",
              "        const docLink = document.createElement('div');\n",
              "        docLink.innerHTML = docLinkHtml;\n",
              "        element.appendChild(docLink);\n",
              "      }\n",
              "    </script>\n",
              "  </div>\n",
              "\n",
              "\n",
              "    <div id=\"df-95923ee8-5a6e-44c1-96cb-c007b74d69c8\">\n",
              "      <button class=\"colab-df-quickchart\" onclick=\"quickchart('df-95923ee8-5a6e-44c1-96cb-c007b74d69c8')\"\n",
              "                title=\"Suggest charts\"\n",
              "                style=\"display:none;\">\n",
              "\n",
              "<svg xmlns=\"http://www.w3.org/2000/svg\" height=\"24px\"viewBox=\"0 0 24 24\"\n",
              "     width=\"24px\">\n",
              "    <g>\n",
              "        <path d=\"M19 3H5c-1.1 0-2 .9-2 2v14c0 1.1.9 2 2 2h14c1.1 0 2-.9 2-2V5c0-1.1-.9-2-2-2zM9 17H7v-7h2v7zm4 0h-2V7h2v10zm4 0h-2v-4h2v4z\"/>\n",
              "    </g>\n",
              "</svg>\n",
              "      </button>\n",
              "\n",
              "<style>\n",
              "  .colab-df-quickchart {\n",
              "      --bg-color: #E8F0FE;\n",
              "      --fill-color: #1967D2;\n",
              "      --hover-bg-color: #E2EBFA;\n",
              "      --hover-fill-color: #174EA6;\n",
              "      --disabled-fill-color: #AAA;\n",
              "      --disabled-bg-color: #DDD;\n",
              "  }\n",
              "\n",
              "  [theme=dark] .colab-df-quickchart {\n",
              "      --bg-color: #3B4455;\n",
              "      --fill-color: #D2E3FC;\n",
              "      --hover-bg-color: #434B5C;\n",
              "      --hover-fill-color: #FFFFFF;\n",
              "      --disabled-bg-color: #3B4455;\n",
              "      --disabled-fill-color: #666;\n",
              "  }\n",
              "\n",
              "  .colab-df-quickchart {\n",
              "    background-color: var(--bg-color);\n",
              "    border: none;\n",
              "    border-radius: 50%;\n",
              "    cursor: pointer;\n",
              "    display: none;\n",
              "    fill: var(--fill-color);\n",
              "    height: 32px;\n",
              "    padding: 0;\n",
              "    width: 32px;\n",
              "  }\n",
              "\n",
              "  .colab-df-quickchart:hover {\n",
              "    background-color: var(--hover-bg-color);\n",
              "    box-shadow: 0 1px 2px rgba(60, 64, 67, 0.3), 0 1px 3px 1px rgba(60, 64, 67, 0.15);\n",
              "    fill: var(--button-hover-fill-color);\n",
              "  }\n",
              "\n",
              "  .colab-df-quickchart-complete:disabled,\n",
              "  .colab-df-quickchart-complete:disabled:hover {\n",
              "    background-color: var(--disabled-bg-color);\n",
              "    fill: var(--disabled-fill-color);\n",
              "    box-shadow: none;\n",
              "  }\n",
              "\n",
              "  .colab-df-spinner {\n",
              "    border: 2px solid var(--fill-color);\n",
              "    border-color: transparent;\n",
              "    border-bottom-color: var(--fill-color);\n",
              "    animation:\n",
              "      spin 1s steps(1) infinite;\n",
              "  }\n",
              "\n",
              "  @keyframes spin {\n",
              "    0% {\n",
              "      border-color: transparent;\n",
              "      border-bottom-color: var(--fill-color);\n",
              "      border-left-color: var(--fill-color);\n",
              "    }\n",
              "    20% {\n",
              "      border-color: transparent;\n",
              "      border-left-color: var(--fill-color);\n",
              "      border-top-color: var(--fill-color);\n",
              "    }\n",
              "    30% {\n",
              "      border-color: transparent;\n",
              "      border-left-color: var(--fill-color);\n",
              "      border-top-color: var(--fill-color);\n",
              "      border-right-color: var(--fill-color);\n",
              "    }\n",
              "    40% {\n",
              "      border-color: transparent;\n",
              "      border-right-color: var(--fill-color);\n",
              "      border-top-color: var(--fill-color);\n",
              "    }\n",
              "    60% {\n",
              "      border-color: transparent;\n",
              "      border-right-color: var(--fill-color);\n",
              "    }\n",
              "    80% {\n",
              "      border-color: transparent;\n",
              "      border-right-color: var(--fill-color);\n",
              "      border-bottom-color: var(--fill-color);\n",
              "    }\n",
              "    90% {\n",
              "      border-color: transparent;\n",
              "      border-bottom-color: var(--fill-color);\n",
              "    }\n",
              "  }\n",
              "</style>\n",
              "\n",
              "      <script>\n",
              "        async function quickchart(key) {\n",
              "          const quickchartButtonEl =\n",
              "            document.querySelector('#' + key + ' button');\n",
              "          quickchartButtonEl.disabled = true;  // To prevent multiple clicks.\n",
              "          quickchartButtonEl.classList.add('colab-df-spinner');\n",
              "          try {\n",
              "            const charts = await google.colab.kernel.invokeFunction(\n",
              "                'suggestCharts', [key], {});\n",
              "          } catch (error) {\n",
              "            console.error('Error during call to suggestCharts:', error);\n",
              "          }\n",
              "          quickchartButtonEl.classList.remove('colab-df-spinner');\n",
              "          quickchartButtonEl.classList.add('colab-df-quickchart-complete');\n",
              "        }\n",
              "        (() => {\n",
              "          let quickchartButtonEl =\n",
              "            document.querySelector('#df-95923ee8-5a6e-44c1-96cb-c007b74d69c8 button');\n",
              "          quickchartButtonEl.style.display =\n",
              "            google.colab.kernel.accessAllowed ? 'block' : 'none';\n",
              "        })();\n",
              "      </script>\n",
              "    </div>\n",
              "\n",
              "  <div id=\"id_bd5b7174-06da-4b6f-b8a9-206d1d95f0ad\">\n",
              "    <style>\n",
              "      .colab-df-generate {\n",
              "        background-color: #E8F0FE;\n",
              "        border: none;\n",
              "        border-radius: 50%;\n",
              "        cursor: pointer;\n",
              "        display: none;\n",
              "        fill: #1967D2;\n",
              "        height: 32px;\n",
              "        padding: 0 0 0 0;\n",
              "        width: 32px;\n",
              "      }\n",
              "\n",
              "      .colab-df-generate:hover {\n",
              "        background-color: #E2EBFA;\n",
              "        box-shadow: 0px 1px 2px rgba(60, 64, 67, 0.3), 0px 1px 3px 1px rgba(60, 64, 67, 0.15);\n",
              "        fill: #174EA6;\n",
              "      }\n",
              "\n",
              "      [theme=dark] .colab-df-generate {\n",
              "        background-color: #3B4455;\n",
              "        fill: #D2E3FC;\n",
              "      }\n",
              "\n",
              "      [theme=dark] .colab-df-generate:hover {\n",
              "        background-color: #434B5C;\n",
              "        box-shadow: 0px 1px 3px 1px rgba(0, 0, 0, 0.15);\n",
              "        filter: drop-shadow(0px 1px 2px rgba(0, 0, 0, 0.3));\n",
              "        fill: #FFFFFF;\n",
              "      }\n",
              "    </style>\n",
              "    <button class=\"colab-df-generate\" onclick=\"generateWithVariable('X')\"\n",
              "            title=\"Generate code using this dataframe.\"\n",
              "            style=\"display:none;\">\n",
              "\n",
              "  <svg xmlns=\"http://www.w3.org/2000/svg\" height=\"24px\"viewBox=\"0 0 24 24\"\n",
              "       width=\"24px\">\n",
              "    <path d=\"M7,19H8.4L18.45,9,17,7.55,7,17.6ZM5,21V16.75L18.45,3.32a2,2,0,0,1,2.83,0l1.4,1.43a1.91,1.91,0,0,1,.58,1.4,1.91,1.91,0,0,1-.58,1.4L9.25,21ZM18.45,9,17,7.55Zm-12,3A5.31,5.31,0,0,0,4.9,8.1,5.31,5.31,0,0,0,1,6.5,5.31,5.31,0,0,0,4.9,4.9,5.31,5.31,0,0,0,6.5,1,5.31,5.31,0,0,0,8.1,4.9,5.31,5.31,0,0,0,12,6.5,5.46,5.46,0,0,0,6.5,12Z\"/>\n",
              "  </svg>\n",
              "    </button>\n",
              "    <script>\n",
              "      (() => {\n",
              "      const buttonEl =\n",
              "        document.querySelector('#id_bd5b7174-06da-4b6f-b8a9-206d1d95f0ad button.colab-df-generate');\n",
              "      buttonEl.style.display =\n",
              "        google.colab.kernel.accessAllowed ? 'block' : 'none';\n",
              "\n",
              "      buttonEl.onclick = () => {\n",
              "        google.colab.notebook.generateWithVariable('X');\n",
              "      }\n",
              "      })();\n",
              "    </script>\n",
              "  </div>\n",
              "\n",
              "    </div>\n",
              "  </div>\n"
            ],
            "application/vnd.google.colaboratory.intrinsic+json": {
              "type": "dataframe",
              "variable_name": "X",
              "summary": "{\n  \"name\": \"X\",\n  \"rows\": 500,\n  \"fields\": [\n    {\n      \"column\": \"Age\",\n      \"properties\": {\n        \"dtype\": \"number\",\n        \"std\": 12,\n        \"min\": 18,\n        \"max\": 59,\n        \"num_unique_values\": 42,\n        \"samples\": [\n          26,\n          19,\n          41\n        ],\n        \"semantic_type\": \"\",\n        \"description\": \"\"\n      }\n    },\n    {\n      \"column\": \"TotalOrders\",\n      \"properties\": {\n        \"dtype\": \"number\",\n        \"std\": 5,\n        \"min\": 14,\n        \"max\": 47,\n        \"num_unique_values\": 32,\n        \"samples\": [\n          46,\n          23,\n          24\n        ],\n        \"semantic_type\": \"\",\n        \"description\": \"\"\n      }\n    },\n    {\n      \"column\": \"AverageSpend\",\n      \"properties\": {\n        \"dtype\": \"number\",\n        \"std\": 74.7324066607534,\n        \"min\": 80.9,\n        \"max\": 539.48,\n        \"num_unique_values\": 493,\n        \"samples\": [\n          355.41,\n          277.31,\n          178.87\n        ],\n        \"semantic_type\": \"\",\n        \"description\": \"\"\n      }\n    },\n    {\n      \"column\": \"FavoriteCuisine\",\n      \"properties\": {\n        \"dtype\": \"number\",\n        \"std\": 1,\n        \"min\": 0,\n        \"max\": 4,\n        \"num_unique_values\": 5,\n        \"samples\": [\n          4,\n          1,\n          2\n        ],\n        \"semantic_type\": \"\",\n        \"description\": \"\"\n      }\n    },\n    {\n      \"column\": \"DeliveryRating\",\n      \"properties\": {\n        \"dtype\": \"number\",\n        \"std\": 0.7317941550536878,\n        \"min\": 2.5,\n        \"max\": 5.0,\n        \"num_unique_values\": 26,\n        \"samples\": [\n          2.8,\n          4.9,\n          4.6\n        ],\n        \"semantic_type\": \"\",\n        \"description\": \"\"\n      }\n    },\n    {\n      \"column\": \"AppUsageTimePerDay\",\n      \"properties\": {\n        \"dtype\": \"number\",\n        \"std\": 48.4724782235266,\n        \"min\": 10.1,\n        \"max\": 179.9,\n        \"num_unique_values\": 434,\n        \"samples\": [\n          56.8,\n          114.8,\n          101.1\n        ],\n        \"semantic_type\": \"\",\n        \"description\": \"\"\n      }\n    }\n  ]\n}"
            }
          },
          "metadata": {},
          "execution_count": 15
        }
      ],
      "source": [
        "X = df.drop('UserID',axis=1)\n",
        "X"
      ]
    },
    {
      "cell_type": "markdown",
      "source": [
        "## Step 6 – Standardize Your Data\n",
        "\n",
        "Standardization is applied to scale the data so that all features contribute equally to the clustering algorithms. This process transforms the data to have a mean of 0 and standard deviation of 1. Without scaling, features with larger ranges may dominate the clustering process.\n"
      ],
      "metadata": {
        "id": "t218WMO2JYww"
      },
      "id": "t218WMO2JYww"
    },
    {
      "cell_type": "code",
      "execution_count": 16,
      "id": "9a3363fb",
      "metadata": {
        "execution": {
          "iopub.execute_input": "2025-07-09T10:35:40.625446Z",
          "iopub.status.busy": "2025-07-09T10:35:40.625144Z",
          "iopub.status.idle": "2025-07-09T10:35:40.629899Z",
          "shell.execute_reply": "2025-07-09T10:35:40.628905Z"
        },
        "papermill": {
          "duration": 0.015043,
          "end_time": "2025-07-09T10:35:40.631379",
          "exception": false,
          "start_time": "2025-07-09T10:35:40.616336",
          "status": "completed"
        },
        "tags": [],
        "id": "9a3363fb"
      },
      "outputs": [],
      "source": [
        "sc = StandardScaler()"
      ]
    },
    {
      "cell_type": "code",
      "execution_count": 17,
      "id": "4144c485",
      "metadata": {
        "execution": {
          "iopub.execute_input": "2025-07-09T10:35:40.649757Z",
          "iopub.status.busy": "2025-07-09T10:35:40.649415Z",
          "iopub.status.idle": "2025-07-09T10:35:40.658315Z",
          "shell.execute_reply": "2025-07-09T10:35:40.657450Z"
        },
        "papermill": {
          "duration": 0.019862,
          "end_time": "2025-07-09T10:35:40.659852",
          "exception": false,
          "start_time": "2025-07-09T10:35:40.639990",
          "status": "completed"
        },
        "tags": [],
        "id": "4144c485"
      },
      "outputs": [],
      "source": [
        "X_scaled = sc.fit_transform(X)"
      ]
    },
    {
      "cell_type": "markdown",
      "source": [
        "## Step 7 – Reduce Dimensions Using PCA\n",
        "\n",
        "Principal Component Analysis (PCA) is applied to reduce the dataset to two dimensions. This is done to visualize high-dimensional data in 2D space. PCA also helps to remove redundancy in data by combining correlated features into principal components.\n"
      ],
      "metadata": {
        "id": "aHuydDSrJdUS"
      },
      "id": "aHuydDSrJdUS"
    },
    {
      "cell_type": "code",
      "execution_count": 18,
      "id": "5afa0f18",
      "metadata": {
        "execution": {
          "iopub.execute_input": "2025-07-09T10:35:40.974114Z",
          "iopub.status.busy": "2025-07-09T10:35:40.973795Z",
          "iopub.status.idle": "2025-07-09T10:35:40.994100Z",
          "shell.execute_reply": "2025-07-09T10:35:40.993365Z"
        },
        "papermill": {
          "duration": 0.03108,
          "end_time": "2025-07-09T10:35:40.995504",
          "exception": false,
          "start_time": "2025-07-09T10:35:40.964424",
          "status": "completed"
        },
        "tags": [],
        "id": "5afa0f18"
      },
      "outputs": [],
      "source": [
        "pca = PCA(n_components=2)\n",
        "x_pca = pca.fit_transform(X_scaled)"
      ]
    },
    {
      "cell_type": "markdown",
      "source": [
        "## Step 8 – Group Users Using KMeans Clustering\n",
        "\n",
        "KMeans is an unsupervised machine learning algorithm used to group similar data points into clusters. In this step, the standardized dataset is grouped into 3 clusters using KMeans. The output is a label for each user indicating which cluster they belong to.\n"
      ],
      "metadata": {
        "id": "4luwKQ30JoAa"
      },
      "id": "4luwKQ30JoAa"
    },
    {
      "cell_type": "code",
      "execution_count": 19,
      "id": "ed2435c7",
      "metadata": {
        "execution": {
          "iopub.execute_input": "2025-07-09T10:35:41.013363Z",
          "iopub.status.busy": "2025-07-09T10:35:41.012523Z",
          "iopub.status.idle": "2025-07-09T10:35:41.307033Z",
          "shell.execute_reply": "2025-07-09T10:35:41.306315Z"
        },
        "papermill": {
          "duration": 0.305965,
          "end_time": "2025-07-09T10:35:41.309715",
          "exception": false,
          "start_time": "2025-07-09T10:35:41.003750",
          "status": "completed"
        },
        "tags": [],
        "id": "ed2435c7"
      },
      "outputs": [],
      "source": [
        "kmeans = KMeans(n_clusters =3)\n",
        "kmeans_labels = kmeans.fit_predict(X_scaled)"
      ]
    },
    {
      "cell_type": "code",
      "execution_count": 20,
      "id": "0bb644b3",
      "metadata": {
        "execution": {
          "iopub.execute_input": "2025-07-09T10:35:41.327319Z",
          "iopub.status.busy": "2025-07-09T10:35:41.327008Z",
          "iopub.status.idle": "2025-07-09T10:35:41.331664Z",
          "shell.execute_reply": "2025-07-09T10:35:41.330919Z"
        },
        "papermill": {
          "duration": 0.014845,
          "end_time": "2025-07-09T10:35:41.333067",
          "exception": false,
          "start_time": "2025-07-09T10:35:41.318222",
          "status": "completed"
        },
        "tags": [],
        "id": "0bb644b3"
      },
      "outputs": [],
      "source": [
        "centriod_pca = pca.transform(kmeans.cluster_centers_)"
      ]
    },
    {
      "cell_type": "markdown",
      "source": [
        "## Step 9 – Visualize the Clusters Using a Scatter Plot\n",
        "\n",
        "The PCA-reduced data is plotted in a 2D scatter plot where each point represents a user. Different colors represent different clusters found by KMeans. This visual helps in understanding how well the clusters are separated in the feature space.\n"
      ],
      "metadata": {
        "id": "WoOQ6q9zJyEY"
      },
      "id": "WoOQ6q9zJyEY"
    },
    {
      "cell_type": "code",
      "execution_count": 21,
      "id": "ebd0769a",
      "metadata": {
        "execution": {
          "iopub.execute_input": "2025-07-09T10:35:41.350392Z",
          "iopub.status.busy": "2025-07-09T10:35:41.350079Z",
          "iopub.status.idle": "2025-07-09T10:35:41.644172Z",
          "shell.execute_reply": "2025-07-09T10:35:41.643305Z"
        },
        "papermill": {
          "duration": 0.304678,
          "end_time": "2025-07-09T10:35:41.645817",
          "exception": false,
          "start_time": "2025-07-09T10:35:41.341139",
          "status": "completed"
        },
        "tags": [],
        "colab": {
          "base_uri": "https://localhost:8080/",
          "height": 314
        },
        "id": "ebd0769a",
        "outputId": "32f5120a-611b-45a2-87cf-8d3742c37278"
      },
      "outputs": [
        {
          "output_type": "display_data",
          "data": {
            "text/plain": [
              "<Figure size 500x300 with 1 Axes>"
            ],
            "image/png": "[encoded data removed]"
          },
          "metadata": {}
        }
      ],
      "source": [
        "plt.figure(figsize=(5,3))\n",
        "sns.scatterplot(x=x_pca[:,0],y=x_pca[:,1],hue = kmeans_labels,palette=\"viridis\")\n",
        "plt.plot(centriod_pca[:,0],centriod_pca[:,1],color='red',marker='o')\n",
        "plt.title(\"KMEANS LABELS\")\n",
        "plt.show()"
      ]
    },
    {
      "cell_type": "markdown",
      "source": [
        "## Step 10 – Group Users with Agglomerative Clustering\n",
        "\n",
        "Agglomerative Clustering is a hierarchical clustering method. It starts with each user as its own cluster and merges the closest pairs until the required number of clusters is formed. This method is effective when data contains nested group structures.\n"
      ],
      "metadata": {
        "id": "VDbHo0G-LVXM"
      },
      "id": "VDbHo0G-LVXM"
    },
    {
      "cell_type": "code",
      "execution_count": 22,
      "id": "f14e3627",
      "metadata": {
        "execution": {
          "iopub.execute_input": "2025-07-09T10:35:42.417983Z",
          "iopub.status.busy": "2025-07-09T10:35:42.417583Z",
          "iopub.status.idle": "2025-07-09T10:35:42.429325Z",
          "shell.execute_reply": "2025-07-09T10:35:42.428348Z"
        },
        "papermill": {
          "duration": 0.025479,
          "end_time": "2025-07-09T10:35:42.431045",
          "exception": false,
          "start_time": "2025-07-09T10:35:42.405566",
          "status": "completed"
        },
        "tags": [],
        "id": "f14e3627"
      },
      "outputs": [],
      "source": [
        "agglo = AgglomerativeClustering(n_clusters=3)\n",
        "agglo_labels = agglo.fit_predict(X_scaled)"
      ]
    },
    {
      "cell_type": "markdown",
      "source": [
        "## Step 11 – Visualize Clusters Using Agglomerative Clustering\n",
        "\n",
        "A scatter plot is created to visualize the output from Agglomerative Clustering. Each user is shown as a point in PCA space, colored according to the cluster they belong to. This plot helps compare the performance of Agglomerative Clustering with KMeans.\n"
      ],
      "metadata": {
        "id": "lNBF7bWvLXVj"
      },
      "id": "lNBF7bWvLXVj"
    },
    {
      "cell_type": "code",
      "execution_count": 23,
      "id": "23fe19cf",
      "metadata": {
        "execution": {
          "iopub.execute_input": "2025-07-09T10:35:42.454722Z",
          "iopub.status.busy": "2025-07-09T10:35:42.454357Z",
          "iopub.status.idle": "2025-07-09T10:35:42.717893Z",
          "shell.execute_reply": "2025-07-09T10:35:42.716913Z"
        },
        "papermill": {
          "duration": 0.278134,
          "end_time": "2025-07-09T10:35:42.720251",
          "exception": false,
          "start_time": "2025-07-09T10:35:42.442117",
          "status": "completed"
        },
        "tags": [],
        "colab": {
          "base_uri": "https://localhost:8080/",
          "height": 314
        },
        "id": "23fe19cf",
        "outputId": "f39ef05a-6c88-4778-da68-6fbbf3eb7dcf"
      },
      "outputs": [
        {
          "output_type": "display_data",
          "data": {
            "text/plain": [
              "<Figure size 500x300 with 1 Axes>"
            ],
            "image/png": "[encoded data removed]"
          },
          "metadata": {}
        }
      ],
      "source": [
        "plt.figure(figsize=(5,3))\n",
        "sns.scatterplot(x=x_pca[:,1],y=x_pca[:,0],hue=agglo_labels,palette=\"viridis\")\n",
        "plt.title(\"AGGLOMERATIVE CLUSTER\")\n",
        "plt.show()"
      ]
    },
    {
      "cell_type": "markdown",
      "source": [
        "## Step 12 – Build a Dendrogram to Visualize Cluster Formation\n",
        "\n",
        "A dendrogram is a tree-like diagram that shows the merging of clusters at each step in hierarchical clustering. It helps to understand how clusters are formed and can be used to decide the optimal number of clusters by observing where large vertical gaps exist.\n"
      ],
      "metadata": {
        "id": "jEC-XBClLd0a"
      },
      "id": "jEC-XBClLd0a"
    },
    {
      "cell_type": "code",
      "source": [
        "plt.figure(figsize=(12,8))\n",
        "link = linkage(X_scaled,method='ward')\n",
        "dendrogram(link,p=30,truncate_mode='lastp')\n",
        "plt.title(\"DENDOGRAM\")\n",
        "plt.show()"
      ],
      "metadata": {
        "colab": {
          "base_uri": "https://localhost:8080/",
          "height": 532
        },
        "id": "3evfth8GLeX7",
        "outputId": "5ef7fd8f-74ba-4b07-a74d-f524325d261b"
      },
      "id": "3evfth8GLeX7",
      "execution_count": 24,
      "outputs": [
        {
          "output_type": "display_data",
          "data": {
            "text/plain": [
              "<Figure size 1200x800 with 1 Axes>"
            ],
            "image/png": "[encoded data removed]"
          },
          "metadata": {}
        }
      ]
    },
    {
      "cell_type": "markdown",
      "source": [
        "## Step 13 – Discover User Patterns with DBSCAN Clustering\n",
        "\n",
        "DBSCAN (Density-Based Spatial Clustering of Applications with Noise) is applied to identify clusters of users based on data density. Unlike KMeans, DBSCAN can find arbitrarily shaped clusters and can also detect outliers as noise points.\n"
      ],
      "metadata": {
        "id": "-Eln4WN5MAYK"
      },
      "id": "-Eln4WN5MAYK"
    },
    {
      "cell_type": "code",
      "source": [
        "db = DBSCAN(eps=1.5,min_samples=5)\n",
        "db_labels = db.fit_predict(X_scaled)"
      ],
      "metadata": {
        "id": "3OXKqhfcLuR0"
      },
      "id": "3OXKqhfcLuR0",
      "execution_count": 25,
      "outputs": []
    },
    {
      "cell_type": "markdown",
      "source": [
        "## Step 14 – Visualize DBSCAN Clustering with a Scatter Plot\n",
        "\n",
        "The results of DBSCAN clustering are visualized using a 2D scatter plot of PCA components. Each point is colored by its cluster label. Noise points, which do not belong to any cluster, are typically shown in a separate color (e.g., gray or black).\n"
      ],
      "metadata": {
        "id": "anMLwNbbMCWW"
      },
      "id": "anMLwNbbMCWW"
    },
    {
      "cell_type": "code",
      "execution_count": 26,
      "id": "bbe4bfcd",
      "metadata": {
        "papermill": {
          "duration": 0.019118,
          "end_time": "2025-07-09T10:35:44.040901",
          "exception": false,
          "start_time": "2025-07-09T10:35:44.021783",
          "status": "completed"
        },
        "tags": [],
        "colab": {
          "base_uri": "https://localhost:8080/",
          "height": 314
        },
        "id": "bbe4bfcd",
        "outputId": "0f2c353f-b10c-4b64-c417-87fa4c89d002"
      },
      "outputs": [
        {
          "output_type": "display_data",
          "data": {
            "text/plain": [
              "<Figure size 500x300 with 1 Axes>"
            ],
            "image/png": "[encoded data removed]"
          },
          "metadata": {}
        }
      ],
      "source": [
        "plt.figure(figsize=(5,3))\n",
        "sns.scatterplot(x=x_pca[:,1],y=x_pca[:,0],hue=db_labels,palette=\"viridis\")\n",
        "plt.title(\"DBSCAN\")\n",
        "plt.show()"
      ]
    },
    {
      "cell_type": "markdown",
      "source": [
        "## Final Conclusion\n",
        "\n",
        "This project successfully applied various unsupervised machine learning techniques to segment users of a food delivery application based on their behavioral and preference data.It includes data cleaning, encoding categorical features, and standardizing numerical values. Principal Component Analysis (PCA) was used to reduce the dimensionality of the dataset, enabling clear visualizations and improving clustering performance.\n",
        "\n",
        "Multiple clustering algorithms were then explored, including KMeans, Agglomerative Clustering, and DBSCAN. Each algorithm revealed different structures and patterns in the data. KMeans provided a fast and efficient partitioning of users into three distinct groups based on similarities. Agglomerative Clustering helped understand how users could be merged hierarchically, and the dendrogram visualization provided deeper insights into the grouping structure. DBSCAN allowed the detection of arbitrary-shaped clusters and successfully identified outlier users who did not fit into any of the main groups.\n",
        "\n",
        "Overall, the clustering analysis demonstrated that users of the food delivery service exhibit diverse behaviors and preferences, which can be effectively captured and grouped using unsupervised learning techniques.\n"
      ],
      "metadata": {
        "id": "AEo0oTANPY67"
      },
      "id": "AEo0oTANPY67"
    }
  ],
  "metadata": {
    "kaggle": {
      "accelerator": "none",
      "dataSources": [
        {
          "datasetId": 7832341,
          "sourceId": 12418465,
          "sourceType": "datasetVersion"
        }
      ],
      "dockerImageVersionId": 31089,
      "isGpuEnabled": false,
      "isInternetEnabled": false,
      "language": "python",
      "sourceType": "notebook"
    },
    "kernelspec": {
      "display_name": "Python 3",
      "language": "python",
      "name": "python3"
    },
    "language_info": {
      "codemirror_mode": {
        "name": "ipython",
        "version": 3
      },
      "file_extension": ".py",
      "mimetype": "text/x-python",
      "name": "python",
      "nbconvert_exporter": "python",
      "pygments_lexer": "ipython3",
      "version": "3.11.13"
    },
    "papermill": {
      "default_parameters": {},
      "duration": 14.203464,
      "end_time": "2025-07-09T10:35:44.778095",
      "environment_variables": {},
      "exception": null,
      "input_path": "__notebook__.ipynb",
      "output_path": "__notebook__.ipynb",
      "parameters": {},
      "start_time": "2025-07-09T10:35:30.574631",
      "version": "2.6.0"
    },
    "colab": {
      "provenance": []
    }
  },
  "nbformat": 4,
  "nbformat_minor": 5
}